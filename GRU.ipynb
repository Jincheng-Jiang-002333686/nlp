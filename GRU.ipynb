{
 "cells": [
  {
   "cell_type": "code",
   "id": "initial_id",
   "metadata": {
    "collapsed": true,
    "ExecuteTime": {
     "end_time": "2025-03-15T02:53:35.902690Z",
     "start_time": "2025-03-15T02:53:29.916974Z"
    }
   },
   "source": [
    "import pandas as pd\n",
    "import torch\n",
    "from torch.nn.utils.rnn import pad_sequence\n",
    "from torch.utils.data import Dataset, DataLoader\n",
    "import torch.nn as nn\n",
    "import torch.optim as optim\n",
    "from tqdm import tqdm\n",
    "from sklearn.model_selection import train_test_split\n",
    "from html import unescape\n",
    "import re\n",
    "import spacy\n",
    "from titlecase import titlecase\n",
    "from torch.optim.lr_scheduler import StepLR\n",
    "import matplotlib.pyplot as plt"
   ],
   "outputs": [],
   "execution_count": 1
  },
  {
   "metadata": {
    "ExecuteTime": {
     "end_time": "2025-03-15T02:53:36.279688Z",
     "start_time": "2025-03-15T02:53:35.904889Z"
    }
   },
   "cell_type": "code",
   "source": [
    "# load data\n",
    "processed_path = \"./processed_data.parquet\"\n",
    "df = pd.read_parquet(processed_path)\n",
    "\n",
    "# load vocab\n",
    "vocab_df = pd.read_csv(\"./vocab.csv\")\n",
    "vocab = {word: idx for word, idx in zip(vocab_df[\"word\"], vocab_df[\"id\"])}\n",
    "reverse_vocab = {idx: word for word, idx in vocab.items()}  # get reverse vocab\n",
    "\n",
    "pad_idx = vocab['<pad>']  \n",
    "unk_idx = vocab['<unk>']\n",
    "sos_idx = vocab['<start>']\n",
    "eos_idx = vocab['<end>']"
   ],
   "id": "7d98a969d0eee1cb",
   "outputs": [],
   "execution_count": 2
  },
  {
   "metadata": {
    "ExecuteTime": {
     "end_time": "2025-03-15T02:53:36.394520Z",
     "start_time": "2025-03-15T02:53:36.387050Z"
    }
   },
   "cell_type": "code",
   "source": [
    "# check data type\n",
    "print(df['title_seq'].dtype)\n",
    "\n",
    "row_example = df.iloc[0]\n",
    "print(\"row_example['title_seq']: \", row_example['title_seq'])\n",
    "print(\"type of row_example['title_seq']: \", type(row_example['title_seq']))"
   ],
   "id": "f711d42a3857cfe1",
   "outputs": [
    {
     "name": "stdout",
     "output_type": "stream",
     "text": [
      "object\n",
      "row_example['title_seq']:  [    2   285   303     4  1355 13889   678     9     3]\n",
      "type of row_example['title_seq']:  <class 'numpy.ndarray'>\n"
     ]
    }
   ],
   "execution_count": 3
  },
  {
   "metadata": {
    "ExecuteTime": {
     "end_time": "2025-03-15T02:53:36.507482Z",
     "start_time": "2025-03-15T02:53:36.489829Z"
    }
   },
   "cell_type": "code",
   "source": [
    "def collate_fn(batch):\n",
    "    \"\"\"\n",
    "    batch: List of (input_seq, target_seq)\n",
    "    \"\"\"\n",
    "    input_seqs  = [torch.tensor(item[0], dtype=torch.long) for item in batch]\n",
    "    target_seqs = [torch.tensor(item[1], dtype=torch.long) for item in batch]\n",
    "\n",
    "    # padding to the max length in batch\n",
    "    padded_inputs = pad_sequence(input_seqs,\n",
    "                                 batch_first=True,\n",
    "                                 padding_value=pad_idx)\n",
    "\n",
    "    padded_targets = pad_sequence(target_seqs,\n",
    "                                  batch_first=True,\n",
    "                                  padding_value=pad_idx)\n",
    "\n",
    "    return padded_inputs, padded_targets"
   ],
   "id": "4467d4d556d07a07",
   "outputs": [],
   "execution_count": 4
  },
  {
   "metadata": {
    "ExecuteTime": {
     "end_time": "2025-03-15T02:53:36.601514Z",
     "start_time": "2025-03-15T02:53:36.584038Z"
    }
   },
   "cell_type": "code",
   "source": [
    "class AGNewsDataset(Dataset):\n",
    "    def __init__(self, dataframe, input_col=\"desc_seq\", target_col=\"title_seq\"):\n",
    "        df = dataframe.reset_index(drop=True)\n",
    "\n",
    "        # samples: List of (input_seq, target_seq)\n",
    "        self.samples = []\n",
    "\n",
    "        for idx, row in df.iterrows():\n",
    "            input_seq = row[input_col].tolist()   # list[int]\n",
    "            target_seq = row[target_col].tolist()   # list[int]\n",
    "\n",
    "            # filter out short sequences\n",
    "            if len(input_seq) >= 3 and len(target_seq) >= 3:\n",
    "                self.samples.append((input_seq, target_seq))\n",
    "\n",
    "    def __len__(self):\n",
    "        return len(self.samples)\n",
    "\n",
    "    def __getitem__(self, idx):\n",
    "        return self.samples[idx]"
   ],
   "id": "309866043bad8496",
   "outputs": [],
   "execution_count": 5
  },
  {
   "metadata": {
    "ExecuteTime": {
     "end_time": "2025-03-15T02:53:43.200082Z",
     "start_time": "2025-03-15T02:53:36.633715Z"
    }
   },
   "cell_type": "code",
   "source": [
    "train_df, test_df = train_test_split(df, test_size=0.2, random_state=42)\n",
    "\n",
    "train_dataset = AGNewsDataset(train_df, input_col=\"desc_seq\", target_col=\"title_seq\")\n",
    "test_dataset  = AGNewsDataset(test_df,  input_col=\"desc_seq\", target_col=\"title_seq\")\n",
    "\n",
    "train_dataloader = DataLoader(train_dataset, batch_size=128, shuffle=True, collate_fn=collate_fn)\n",
    "test_dataloader  = DataLoader(test_dataset,  batch_size=128, shuffle=False, collate_fn=collate_fn)\n",
    "\n",
    "# check dataloader size\n",
    "for batch_inputs, batch_targets in train_dataloader:\n",
    "    print(batch_inputs.shape, batch_targets.shape)\n",
    "    break"
   ],
   "id": "9e6072fb981f1938",
   "outputs": [
    {
     "name": "stdout",
     "output_type": "stream",
     "text": [
      "torch.Size([128, 39]) torch.Size([128, 12])\n"
     ]
    }
   ],
   "execution_count": 6
  },
  {
   "metadata": {
    "ExecuteTime": {
     "end_time": "2025-03-15T02:53:43.280691Z",
     "start_time": "2025-03-15T02:53:43.268471Z"
    }
   },
   "cell_type": "code",
   "source": [
    "class Encoder(nn.Module):\n",
    "    def __init__(self, vocab_size, embed_dim, hidden_dim, num_layers=1, pad_idx=0, dropout=0.3):\n",
    "        super().__init__()\n",
    "        self.hidden_dim = hidden_dim\n",
    "        self.num_layers = num_layers\n",
    "\n",
    "        self.embedding = nn.Embedding(\n",
    "            num_embeddings=vocab_size,\n",
    "            embedding_dim=embed_dim,\n",
    "            padding_idx=pad_idx\n",
    "        )\n",
    "        self.gru = nn.GRU(\n",
    "            input_size=embed_dim,\n",
    "            hidden_size=hidden_dim,\n",
    "            num_layers=num_layers,\n",
    "            batch_first=True,\n",
    "            dropout=(dropout if num_layers > 1 else 0.0)\n",
    "        )\n",
    "\n",
    "    def forward(self, src):\n",
    "        # src: [batch_size, src_len]\n",
    "        embedded = self.embedding(src)  # -> [batch_size, src_len, embed_dim]\n",
    "\n",
    "        outputs, hidden = self.gru(embedded)\n",
    "        # outputs: [batch_size, src_len, hidden_dim] \n",
    "        # hidden: [num_layers, batch_size, hidden_dim]\n",
    "\n",
    "        return hidden"
   ],
   "id": "5c0189ac10a848e9",
   "outputs": [],
   "execution_count": 7
  },
  {
   "metadata": {
    "ExecuteTime": {
     "end_time": "2025-03-15T02:53:43.385973Z",
     "start_time": "2025-03-15T02:53:43.377579Z"
    }
   },
   "cell_type": "code",
   "source": [
    "class Decoder(nn.Module):\n",
    "    def __init__(self, vocab_size, embed_dim, hidden_dim, num_layers=1, pad_idx=0, dropout=0.3):\n",
    "        super().__init__()\n",
    "        self.hidden_dim = hidden_dim\n",
    "        self.num_layers = num_layers\n",
    "        self.vocab_size = vocab_size\n",
    "\n",
    "        self.embedding = nn.Embedding(\n",
    "            num_embeddings=vocab_size,\n",
    "            embedding_dim=embed_dim,\n",
    "            padding_idx=pad_idx\n",
    "        )\n",
    "        self.gru = nn.GRU(\n",
    "            input_size=embed_dim,\n",
    "            hidden_size=hidden_dim,\n",
    "            num_layers=num_layers,\n",
    "            batch_first=True,\n",
    "            dropout=(dropout if num_layers > 1 else 0.0)\n",
    "        )\n",
    "        # project to vocab size\n",
    "        self.fc_out = nn.Linear(hidden_dim, vocab_size)\n",
    "\n",
    "    def forward(self, input_step, hidden):\n",
    "        \"\"\"\n",
    "        input_step: [batch_size], representing the token index\n",
    "        hidden: [num_layers, batch_size, hidden_dim]\n",
    "        \"\"\"\n",
    "        embedded = self.embedding(input_step)  # -> [batch_size, embed_dim]\n",
    "        embedded = embedded.unsqueeze(1)\n",
    "\n",
    "        output, hidden = self.gru(embedded, hidden)\n",
    "        # output: [batch_size, 1, hidden_dim]\n",
    "        # hidden: [num_layers, batch_size, hidden_dim]\n",
    "\n",
    "        prediction = self.fc_out(output.squeeze(1))  # -> [batch_size, vocab_size]\n",
    "\n",
    "        return prediction, hidden"
   ],
   "id": "89dc76f7bd1d31ca",
   "outputs": [],
   "execution_count": 8
  },
  {
   "metadata": {
    "ExecuteTime": {
     "end_time": "2025-03-15T02:53:43.408150Z",
     "start_time": "2025-03-15T02:53:43.393482Z"
    }
   },
   "cell_type": "code",
   "source": [
    "class Seq2Seq(nn.Module):\n",
    "    def __init__(self, encoder, decoder, sos_idx, eos_idx, device):\n",
    "        super().__init__()\n",
    "        self.encoder = encoder\n",
    "        self.decoder = decoder\n",
    "        self.sos_idx = sos_idx\n",
    "        self.eos_idx = eos_idx\n",
    "        self.device = device\n",
    "\n",
    "    def forward(self, src, trg, teacher_forcing_ratio=0.5):\n",
    "        \"\"\"\n",
    "        src: [batch_size, src_len] (desc_seq)\n",
    "        trg: [batch_size, trg_len] (title_seq)\n",
    "        teacher_forcing_ratio: probability to use teacher forcing\n",
    "        \"\"\"\n",
    "\n",
    "        batch_size = src.size(0)\n",
    "        trg_len = trg.size(1)\n",
    "        vocab_size = self.decoder.vocab_size\n",
    "\n",
    "        outputs = torch.zeros(batch_size, trg_len, vocab_size).to(self.device)\n",
    "\n",
    "        hidden = self.encoder(src)\n",
    "        # hidden: [num_layers, batch_size, hidden_dim]\n",
    "\n",
    "        # 2. the first input to the decoder is the <sos> token\n",
    "        input_step = trg[:, 0]  \n",
    "\n",
    "        for t in range(1, trg_len):\n",
    "            output, hidden = self.decoder(input_step, hidden)\n",
    "            # output: [batch_size, vocab_size]\n",
    "            outputs[:, t, :] = output\n",
    "\n",
    "            # get the highest predicted token\n",
    "            pred_token = output.argmax(1)  # [batch_size]\n",
    "\n",
    "            use_teacher_forcing = (torch.rand(1).item() < teacher_forcing_ratio)\n",
    "            if use_teacher_forcing:\n",
    "                # use the ground-truth token as the next input to the decoder\n",
    "                input_step = trg[:, t]\n",
    "            else:\n",
    "                # use the predicted token as the next input to the decoder\n",
    "                input_step = pred_token\n",
    "\n",
    "        return outputs"
   ],
   "id": "ad361038483e02df",
   "outputs": [],
   "execution_count": 9
  },
  {
   "metadata": {
    "ExecuteTime": {
     "end_time": "2025-03-15T02:53:43.485444Z",
     "start_time": "2025-03-15T02:53:43.479770Z"
    }
   },
   "cell_type": "code",
   "source": [
    "device = torch.device(\"cuda\" if torch.cuda.is_available() else \"cpu\")\n",
    "\n",
    "# hyperparameters\n",
    "vocab_size = 37943\n",
    "embed_dim = 300            \n",
    "hidden_dim = 256         \n",
    "num_layers = 2          \n",
    "num_epochs = 50\n",
    "dropout=0.3"
   ],
   "id": "59bf45173e0e3320",
   "outputs": [],
   "execution_count": 10
  },
  {
   "metadata": {
    "ExecuteTime": {
     "end_time": "2025-03-15T02:53:45.296171Z",
     "start_time": "2025-03-15T02:53:43.523092Z"
    }
   },
   "cell_type": "code",
   "source": [
    "encoder = Encoder(vocab_size, embed_dim, hidden_dim, num_layers, pad_idx, dropout)\n",
    "decoder = Decoder(vocab_size, embed_dim, hidden_dim, num_layers, pad_idx, dropout)\n",
    "model = Seq2Seq(encoder, decoder, sos_idx, eos_idx, device).to(device)\n",
    "\n",
    "# decrease learning rate by 0.5 every 10 epochs\n",
    "criterion = nn.CrossEntropyLoss(ignore_index=pad_idx) \n",
    "optimizer = optim.Adam(model.parameters(), lr=0.001)\n",
    "scheduler = StepLR(optimizer, step_size=10, gamma=0.5)"
   ],
   "id": "adcef4396b61db0c",
   "outputs": [],
   "execution_count": 11
  },
  {
   "metadata": {
    "ExecuteTime": {
     "end_time": "2025-03-15T04:16:23.768616Z",
     "start_time": "2025-03-15T02:53:45.338342Z"
    }
   },
   "cell_type": "code",
   "source": [
    "train_losses = []\n",
    "val_losses = []\n",
    "\n",
    "best_val_loss = float(\"inf\")\n",
    "best_epoch = -1\n",
    "\n",
    "for epoch in range(num_epochs):\n",
    "    # ---- Train ----\n",
    "    model.train()\n",
    "    train_loss = 0.0\n",
    "\n",
    "    for batch_inputs, batch_targets in tqdm(train_dataloader,\n",
    "                                            desc=f\"Epoch {epoch+1}/{num_epochs} [Train]\"):\n",
    "        batch_inputs = batch_inputs.to(device)\n",
    "        batch_targets = batch_targets.to(device)\n",
    "\n",
    "        outputs = model(batch_inputs, batch_targets, teacher_forcing_ratio=max(0.5 - epoch*0.01, 0.1))\n",
    "        # outputs: [batch_size, seq_len, vocab_size]\n",
    "\n",
    "        # discard the <start> token\n",
    "        outputs_reshaped = outputs[:, 1:].contiguous().view(-1, vocab_size)\n",
    "        targets_reshaped = batch_targets[:, 1:].contiguous().view(-1)\n",
    "\n",
    "        loss = criterion(outputs_reshaped, targets_reshaped)\n",
    "\n",
    "        optimizer.zero_grad()\n",
    "        loss.backward()\n",
    "        optimizer.step()\n",
    "\n",
    "        train_loss += loss.item()\n",
    "\n",
    "    avg_train_loss = train_loss / len(train_dataloader)\n",
    "    train_losses.append(avg_train_loss)\n",
    "\n",
    "    # ---- Validation ----\n",
    "    model.eval()\n",
    "    val_loss = 0.0\n",
    "\n",
    "    with torch.no_grad():\n",
    "        for batch_inputs, batch_targets in tqdm(test_dataloader,\n",
    "                                                desc=f\"Epoch {epoch+1}/{num_epochs} [Val]\"):\n",
    "            batch_inputs = batch_inputs.to(device)\n",
    "            batch_targets = batch_targets.to(device)\n",
    "\n",
    "            outputs = model(batch_inputs, batch_targets, teacher_forcing_ratio=0.0)\n",
    "            outputs_reshaped = outputs[:, 1:].contiguous().view(-1, vocab_size)\n",
    "            targets_reshaped = batch_targets[:, 1:].contiguous().view(-1)\n",
    "\n",
    "            loss = criterion(outputs_reshaped, targets_reshaped)\n",
    "            val_loss += loss.item()\n",
    "\n",
    "    avg_val_loss = val_loss / len(test_dataloader)\n",
    "    val_losses.append(avg_val_loss)\n",
    "\n",
    "    print(f\"Epoch [{epoch+1}/{num_epochs}] - \"\n",
    "          f\"Train Loss: {avg_train_loss:.4f}, \"\n",
    "          f\"Val Loss: {avg_val_loss:.4f}, \"\n",
    "          f\"LR: {optimizer.param_groups[0]['lr']:.6f}\")\n",
    "    \n",
    "    if (epoch+1) >= 40 and avg_val_loss < best_val_loss:\n",
    "        best_val_loss = avg_val_loss\n",
    "        best_epoch = epoch+1\n",
    "        torch.save(model.state_dict(), \"best_GRU.pt\")\n",
    "        print(f\"  [Info] New best val loss: {best_val_loss:.4f}. Model saved at epoch {best_epoch}.\")\n",
    "\n",
    "    scheduler.step()"
   ],
   "id": "6745f8fb77992a95",
   "outputs": [
    {
     "name": "stderr",
     "output_type": "stream",
     "text": [
      "Epoch 1/50 [Train]: 100%|██████████| 703/703 [01:53<00:00,  6.17it/s]\n",
      "Epoch 1/50 [Val]: 100%|██████████| 176/176 [00:14<00:00, 11.95it/s]\n"
     ]
    },
    {
     "name": "stdout",
     "output_type": "stream",
     "text": [
      "Epoch [1/50] - Train Loss: 7.1236, Val Loss: 6.7172, LR: 0.001000\n"
     ]
    },
    {
     "name": "stderr",
     "output_type": "stream",
     "text": [
      "Epoch 2/50 [Train]: 100%|██████████| 703/703 [01:24<00:00,  8.28it/s]\n",
      "Epoch 2/50 [Val]: 100%|██████████| 176/176 [00:15<00:00, 11.53it/s]\n"
     ]
    },
    {
     "name": "stdout",
     "output_type": "stream",
     "text": [
      "Epoch [2/50] - Train Loss: 6.3026, Val Loss: 6.2718, LR: 0.001000\n"
     ]
    },
    {
     "name": "stderr",
     "output_type": "stream",
     "text": [
      "Epoch 3/50 [Train]: 100%|██████████| 703/703 [01:27<00:00,  8.07it/s]\n",
      "Epoch 3/50 [Val]: 100%|██████████| 176/176 [00:14<00:00, 11.92it/s]\n"
     ]
    },
    {
     "name": "stdout",
     "output_type": "stream",
     "text": [
      "Epoch [3/50] - Train Loss: 5.7477, Val Loss: 5.9923, LR: 0.001000\n"
     ]
    },
    {
     "name": "stderr",
     "output_type": "stream",
     "text": [
      "Epoch 4/50 [Train]: 100%|██████████| 703/703 [01:23<00:00,  8.47it/s]\n",
      "Epoch 4/50 [Val]: 100%|██████████| 176/176 [00:15<00:00, 11.48it/s]\n"
     ]
    },
    {
     "name": "stdout",
     "output_type": "stream",
     "text": [
      "Epoch [4/50] - Train Loss: 5.3075, Val Loss: 5.8418, LR: 0.001000\n"
     ]
    },
    {
     "name": "stderr",
     "output_type": "stream",
     "text": [
      "Epoch 5/50 [Train]: 100%|██████████| 703/703 [01:23<00:00,  8.45it/s]\n",
      "Epoch 5/50 [Val]: 100%|██████████| 176/176 [00:15<00:00, 11.48it/s]\n"
     ]
    },
    {
     "name": "stdout",
     "output_type": "stream",
     "text": [
      "Epoch [5/50] - Train Loss: 4.9434, Val Loss: 5.7691, LR: 0.001000\n"
     ]
    },
    {
     "name": "stderr",
     "output_type": "stream",
     "text": [
      "Epoch 6/50 [Train]: 100%|██████████| 703/703 [01:25<00:00,  8.23it/s]\n",
      "Epoch 6/50 [Val]: 100%|██████████| 176/176 [00:14<00:00, 11.81it/s]\n"
     ]
    },
    {
     "name": "stdout",
     "output_type": "stream",
     "text": [
      "Epoch [6/50] - Train Loss: 4.6389, Val Loss: 5.7458, LR: 0.001000\n"
     ]
    },
    {
     "name": "stderr",
     "output_type": "stream",
     "text": [
      "Epoch 7/50 [Train]: 100%|██████████| 703/703 [01:25<00:00,  8.21it/s]\n",
      "Epoch 7/50 [Val]: 100%|██████████| 176/176 [00:14<00:00, 11.83it/s]\n"
     ]
    },
    {
     "name": "stdout",
     "output_type": "stream",
     "text": [
      "Epoch [7/50] - Train Loss: 4.3686, Val Loss: 5.7446, LR: 0.001000\n"
     ]
    },
    {
     "name": "stderr",
     "output_type": "stream",
     "text": [
      "Epoch 8/50 [Train]: 100%|██████████| 703/703 [01:24<00:00,  8.29it/s]\n",
      "Epoch 8/50 [Val]: 100%|██████████| 176/176 [00:14<00:00, 12.00it/s]\n"
     ]
    },
    {
     "name": "stdout",
     "output_type": "stream",
     "text": [
      "Epoch [8/50] - Train Loss: 4.1385, Val Loss: 5.7716, LR: 0.001000\n"
     ]
    },
    {
     "name": "stderr",
     "output_type": "stream",
     "text": [
      "Epoch 9/50 [Train]: 100%|██████████| 703/703 [01:24<00:00,  8.30it/s]\n",
      "Epoch 9/50 [Val]: 100%|██████████| 176/176 [00:14<00:00, 12.20it/s]\n"
     ]
    },
    {
     "name": "stdout",
     "output_type": "stream",
     "text": [
      "Epoch [9/50] - Train Loss: 3.9335, Val Loss: 5.8009, LR: 0.001000\n"
     ]
    },
    {
     "name": "stderr",
     "output_type": "stream",
     "text": [
      "Epoch 10/50 [Train]: 100%|██████████| 703/703 [01:26<00:00,  8.15it/s]\n",
      "Epoch 10/50 [Val]: 100%|██████████| 176/176 [00:15<00:00, 11.69it/s]\n"
     ]
    },
    {
     "name": "stdout",
     "output_type": "stream",
     "text": [
      "Epoch [10/50] - Train Loss: 3.7511, Val Loss: 5.8451, LR: 0.001000\n"
     ]
    },
    {
     "name": "stderr",
     "output_type": "stream",
     "text": [
      "Epoch 11/50 [Train]: 100%|██████████| 703/703 [01:27<00:00,  8.05it/s]\n",
      "Epoch 11/50 [Val]: 100%|██████████| 176/176 [00:15<00:00, 11.70it/s]\n"
     ]
    },
    {
     "name": "stdout",
     "output_type": "stream",
     "text": [
      "Epoch [11/50] - Train Loss: 3.4339, Val Loss: 5.8376, LR: 0.000500\n"
     ]
    },
    {
     "name": "stderr",
     "output_type": "stream",
     "text": [
      "Epoch 12/50 [Train]: 100%|██████████| 703/703 [01:27<00:00,  8.01it/s]\n",
      "Epoch 12/50 [Val]: 100%|██████████| 176/176 [00:15<00:00, 11.73it/s]\n"
     ]
    },
    {
     "name": "stdout",
     "output_type": "stream",
     "text": [
      "Epoch [12/50] - Train Loss: 3.2911, Val Loss: 5.8780, LR: 0.000500\n"
     ]
    },
    {
     "name": "stderr",
     "output_type": "stream",
     "text": [
      "Epoch 13/50 [Train]: 100%|██████████| 703/703 [01:26<00:00,  8.09it/s]\n",
      "Epoch 13/50 [Val]: 100%|██████████| 176/176 [00:14<00:00, 11.92it/s]\n"
     ]
    },
    {
     "name": "stdout",
     "output_type": "stream",
     "text": [
      "Epoch [13/50] - Train Loss: 3.1912, Val Loss: 5.9218, LR: 0.000500\n"
     ]
    },
    {
     "name": "stderr",
     "output_type": "stream",
     "text": [
      "Epoch 14/50 [Train]: 100%|██████████| 703/703 [01:26<00:00,  8.13it/s]\n",
      "Epoch 14/50 [Val]: 100%|██████████| 176/176 [00:15<00:00, 11.37it/s]\n"
     ]
    },
    {
     "name": "stdout",
     "output_type": "stream",
     "text": [
      "Epoch [14/50] - Train Loss: 3.0956, Val Loss: 5.9577, LR: 0.000500\n"
     ]
    },
    {
     "name": "stderr",
     "output_type": "stream",
     "text": [
      "Epoch 15/50 [Train]: 100%|██████████| 703/703 [01:26<00:00,  8.12it/s]\n",
      "Epoch 15/50 [Val]: 100%|██████████| 176/176 [00:14<00:00, 11.82it/s]\n"
     ]
    },
    {
     "name": "stdout",
     "output_type": "stream",
     "text": [
      "Epoch [15/50] - Train Loss: 3.0224, Val Loss: 5.9966, LR: 0.000500\n"
     ]
    },
    {
     "name": "stderr",
     "output_type": "stream",
     "text": [
      "Epoch 16/50 [Train]: 100%|██████████| 703/703 [01:26<00:00,  8.09it/s]\n",
      "Epoch 16/50 [Val]: 100%|██████████| 176/176 [00:15<00:00, 11.73it/s]\n"
     ]
    },
    {
     "name": "stdout",
     "output_type": "stream",
     "text": [
      "Epoch [16/50] - Train Loss: 2.9455, Val Loss: 6.0383, LR: 0.000500\n"
     ]
    },
    {
     "name": "stderr",
     "output_type": "stream",
     "text": [
      "Epoch 17/50 [Train]: 100%|██████████| 703/703 [01:27<00:00,  8.06it/s]\n",
      "Epoch 17/50 [Val]: 100%|██████████| 176/176 [00:14<00:00, 11.95it/s]\n"
     ]
    },
    {
     "name": "stdout",
     "output_type": "stream",
     "text": [
      "Epoch [17/50] - Train Loss: 2.8639, Val Loss: 6.0855, LR: 0.000500\n"
     ]
    },
    {
     "name": "stderr",
     "output_type": "stream",
     "text": [
      "Epoch 18/50 [Train]: 100%|██████████| 703/703 [01:26<00:00,  8.10it/s]\n",
      "Epoch 18/50 [Val]: 100%|██████████| 176/176 [00:15<00:00, 11.41it/s]\n"
     ]
    },
    {
     "name": "stdout",
     "output_type": "stream",
     "text": [
      "Epoch [18/50] - Train Loss: 2.7945, Val Loss: 6.1296, LR: 0.000500\n"
     ]
    },
    {
     "name": "stderr",
     "output_type": "stream",
     "text": [
      "Epoch 19/50 [Train]: 100%|██████████| 703/703 [01:25<00:00,  8.21it/s]\n",
      "Epoch 19/50 [Val]: 100%|██████████| 176/176 [00:14<00:00, 12.03it/s]\n"
     ]
    },
    {
     "name": "stdout",
     "output_type": "stream",
     "text": [
      "Epoch [19/50] - Train Loss: 2.7266, Val Loss: 6.1735, LR: 0.000500\n"
     ]
    },
    {
     "name": "stderr",
     "output_type": "stream",
     "text": [
      "Epoch 20/50 [Train]: 100%|██████████| 703/703 [01:25<00:00,  8.26it/s]\n",
      "Epoch 20/50 [Val]: 100%|██████████| 176/176 [00:14<00:00, 12.06it/s]\n"
     ]
    },
    {
     "name": "stdout",
     "output_type": "stream",
     "text": [
      "Epoch [20/50] - Train Loss: 2.6623, Val Loss: 6.2144, LR: 0.000500\n"
     ]
    },
    {
     "name": "stderr",
     "output_type": "stream",
     "text": [
      "Epoch 21/50 [Train]: 100%|██████████| 703/703 [01:26<00:00,  8.12it/s]\n",
      "Epoch 21/50 [Val]: 100%|██████████| 176/176 [00:14<00:00, 11.74it/s]\n"
     ]
    },
    {
     "name": "stdout",
     "output_type": "stream",
     "text": [
      "Epoch [21/50] - Train Loss: 2.5147, Val Loss: 6.2307, LR: 0.000250\n"
     ]
    },
    {
     "name": "stderr",
     "output_type": "stream",
     "text": [
      "Epoch 22/50 [Train]: 100%|██████████| 703/703 [01:27<00:00,  8.05it/s]\n",
      "Epoch 22/50 [Val]: 100%|██████████| 176/176 [00:15<00:00, 11.37it/s]\n"
     ]
    },
    {
     "name": "stdout",
     "output_type": "stream",
     "text": [
      "Epoch [22/50] - Train Loss: 2.4512, Val Loss: 6.2620, LR: 0.000250\n"
     ]
    },
    {
     "name": "stderr",
     "output_type": "stream",
     "text": [
      "Epoch 23/50 [Train]: 100%|██████████| 703/703 [01:27<00:00,  8.04it/s]\n",
      "Epoch 23/50 [Val]: 100%|██████████| 176/176 [00:14<00:00, 11.95it/s]\n"
     ]
    },
    {
     "name": "stdout",
     "output_type": "stream",
     "text": [
      "Epoch [23/50] - Train Loss: 2.4119, Val Loss: 6.2913, LR: 0.000250\n"
     ]
    },
    {
     "name": "stderr",
     "output_type": "stream",
     "text": [
      "Epoch 24/50 [Train]: 100%|██████████| 703/703 [01:27<00:00,  8.08it/s]\n",
      "Epoch 24/50 [Val]: 100%|██████████| 176/176 [00:14<00:00, 12.13it/s]\n"
     ]
    },
    {
     "name": "stdout",
     "output_type": "stream",
     "text": [
      "Epoch [24/50] - Train Loss: 2.3773, Val Loss: 6.3168, LR: 0.000250\n"
     ]
    },
    {
     "name": "stderr",
     "output_type": "stream",
     "text": [
      "Epoch 25/50 [Train]: 100%|██████████| 703/703 [01:22<00:00,  8.49it/s]\n",
      "Epoch 25/50 [Val]: 100%|██████████| 176/176 [00:15<00:00, 11.57it/s]\n"
     ]
    },
    {
     "name": "stdout",
     "output_type": "stream",
     "text": [
      "Epoch [25/50] - Train Loss: 2.3428, Val Loss: 6.3527, LR: 0.000250\n"
     ]
    },
    {
     "name": "stderr",
     "output_type": "stream",
     "text": [
      "Epoch 26/50 [Train]: 100%|██████████| 703/703 [01:25<00:00,  8.24it/s]\n",
      "Epoch 26/50 [Val]: 100%|██████████| 176/176 [00:14<00:00, 12.46it/s]\n"
     ]
    },
    {
     "name": "stdout",
     "output_type": "stream",
     "text": [
      "Epoch [26/50] - Train Loss: 2.3097, Val Loss: 6.3808, LR: 0.000250\n"
     ]
    },
    {
     "name": "stderr",
     "output_type": "stream",
     "text": [
      "Epoch 27/50 [Train]: 100%|██████████| 703/703 [01:25<00:00,  8.19it/s]\n",
      "Epoch 27/50 [Val]: 100%|██████████| 176/176 [00:14<00:00, 12.28it/s]\n"
     ]
    },
    {
     "name": "stdout",
     "output_type": "stream",
     "text": [
      "Epoch [27/50] - Train Loss: 2.2779, Val Loss: 6.4100, LR: 0.000250\n"
     ]
    },
    {
     "name": "stderr",
     "output_type": "stream",
     "text": [
      "Epoch 28/50 [Train]: 100%|██████████| 703/703 [01:23<00:00,  8.40it/s]\n",
      "Epoch 28/50 [Val]: 100%|██████████| 176/176 [00:14<00:00, 12.54it/s]\n"
     ]
    },
    {
     "name": "stdout",
     "output_type": "stream",
     "text": [
      "Epoch [28/50] - Train Loss: 2.2490, Val Loss: 6.4297, LR: 0.000250\n"
     ]
    },
    {
     "name": "stderr",
     "output_type": "stream",
     "text": [
      "Epoch 29/50 [Train]: 100%|██████████| 703/703 [01:21<00:00,  8.61it/s]\n",
      "Epoch 29/50 [Val]: 100%|██████████| 176/176 [00:13<00:00, 12.77it/s]\n"
     ]
    },
    {
     "name": "stdout",
     "output_type": "stream",
     "text": [
      "Epoch [29/50] - Train Loss: 2.2205, Val Loss: 6.4554, LR: 0.000250\n"
     ]
    },
    {
     "name": "stderr",
     "output_type": "stream",
     "text": [
      "Epoch 30/50 [Train]: 100%|██████████| 703/703 [01:21<00:00,  8.60it/s]\n",
      "Epoch 30/50 [Val]: 100%|██████████| 176/176 [00:14<00:00, 12.51it/s]\n"
     ]
    },
    {
     "name": "stdout",
     "output_type": "stream",
     "text": [
      "Epoch [30/50] - Train Loss: 2.1926, Val Loss: 6.4821, LR: 0.000250\n"
     ]
    },
    {
     "name": "stderr",
     "output_type": "stream",
     "text": [
      "Epoch 31/50 [Train]: 100%|██████████| 703/703 [01:21<00:00,  8.57it/s]\n",
      "Epoch 31/50 [Val]: 100%|██████████| 176/176 [00:14<00:00, 12.53it/s]\n"
     ]
    },
    {
     "name": "stdout",
     "output_type": "stream",
     "text": [
      "Epoch [31/50] - Train Loss: 2.1214, Val Loss: 6.5040, LR: 0.000125\n"
     ]
    },
    {
     "name": "stderr",
     "output_type": "stream",
     "text": [
      "Epoch 32/50 [Train]: 100%|██████████| 703/703 [01:21<00:00,  8.63it/s]\n",
      "Epoch 32/50 [Val]: 100%|██████████| 176/176 [00:13<00:00, 12.59it/s]\n"
     ]
    },
    {
     "name": "stdout",
     "output_type": "stream",
     "text": [
      "Epoch [32/50] - Train Loss: 2.0890, Val Loss: 6.5258, LR: 0.000125\n"
     ]
    },
    {
     "name": "stderr",
     "output_type": "stream",
     "text": [
      "Epoch 33/50 [Train]: 100%|██████████| 703/703 [01:21<00:00,  8.63it/s]\n",
      "Epoch 33/50 [Val]: 100%|██████████| 176/176 [00:14<00:00, 12.46it/s]\n"
     ]
    },
    {
     "name": "stdout",
     "output_type": "stream",
     "text": [
      "Epoch [33/50] - Train Loss: 2.0735, Val Loss: 6.5410, LR: 0.000125\n"
     ]
    },
    {
     "name": "stderr",
     "output_type": "stream",
     "text": [
      "Epoch 34/50 [Train]: 100%|██████████| 703/703 [01:22<00:00,  8.53it/s]\n",
      "Epoch 34/50 [Val]: 100%|██████████| 176/176 [00:14<00:00, 12.18it/s]\n"
     ]
    },
    {
     "name": "stdout",
     "output_type": "stream",
     "text": [
      "Epoch [34/50] - Train Loss: 2.0559, Val Loss: 6.5559, LR: 0.000125\n"
     ]
    },
    {
     "name": "stderr",
     "output_type": "stream",
     "text": [
      "Epoch 35/50 [Train]: 100%|██████████| 703/703 [01:21<00:00,  8.58it/s]\n",
      "Epoch 35/50 [Val]: 100%|██████████| 176/176 [00:13<00:00, 12.76it/s]\n"
     ]
    },
    {
     "name": "stdout",
     "output_type": "stream",
     "text": [
      "Epoch [35/50] - Train Loss: 2.0418, Val Loss: 6.5779, LR: 0.000125\n"
     ]
    },
    {
     "name": "stderr",
     "output_type": "stream",
     "text": [
      "Epoch 36/50 [Train]: 100%|██████████| 703/703 [01:21<00:00,  8.65it/s]\n",
      "Epoch 36/50 [Val]: 100%|██████████| 176/176 [00:14<00:00, 12.15it/s]\n"
     ]
    },
    {
     "name": "stdout",
     "output_type": "stream",
     "text": [
      "Epoch [36/50] - Train Loss: 2.0235, Val Loss: 6.5973, LR: 0.000125\n"
     ]
    },
    {
     "name": "stderr",
     "output_type": "stream",
     "text": [
      "Epoch 37/50 [Train]: 100%|██████████| 703/703 [01:21<00:00,  8.58it/s]\n",
      "Epoch 37/50 [Val]: 100%|██████████| 176/176 [00:13<00:00, 12.59it/s]\n"
     ]
    },
    {
     "name": "stdout",
     "output_type": "stream",
     "text": [
      "Epoch [37/50] - Train Loss: 2.0137, Val Loss: 6.6077, LR: 0.000125\n"
     ]
    },
    {
     "name": "stderr",
     "output_type": "stream",
     "text": [
      "Epoch 38/50 [Train]: 100%|██████████| 703/703 [01:21<00:00,  8.58it/s]\n",
      "Epoch 38/50 [Val]: 100%|██████████| 176/176 [00:13<00:00, 12.59it/s]\n"
     ]
    },
    {
     "name": "stdout",
     "output_type": "stream",
     "text": [
      "Epoch [38/50] - Train Loss: 2.0010, Val Loss: 6.6222, LR: 0.000125\n"
     ]
    },
    {
     "name": "stderr",
     "output_type": "stream",
     "text": [
      "Epoch 39/50 [Train]: 100%|██████████| 703/703 [01:21<00:00,  8.63it/s]\n",
      "Epoch 39/50 [Val]: 100%|██████████| 176/176 [00:14<00:00, 12.56it/s]\n"
     ]
    },
    {
     "name": "stdout",
     "output_type": "stream",
     "text": [
      "Epoch [39/50] - Train Loss: 1.9822, Val Loss: 6.6402, LR: 0.000125\n"
     ]
    },
    {
     "name": "stderr",
     "output_type": "stream",
     "text": [
      "Epoch 40/50 [Train]: 100%|██████████| 703/703 [01:22<00:00,  8.50it/s]\n",
      "Epoch 40/50 [Val]: 100%|██████████| 176/176 [00:14<00:00, 12.55it/s]\n"
     ]
    },
    {
     "name": "stdout",
     "output_type": "stream",
     "text": [
      "Epoch [40/50] - Train Loss: 1.9695, Val Loss: 6.6559, LR: 0.000125\n",
      "  [Info] New best val loss: 6.6559. Model saved at epoch 40.\n"
     ]
    },
    {
     "name": "stderr",
     "output_type": "stream",
     "text": [
      "Epoch 41/50 [Train]: 100%|██████████| 703/703 [01:22<00:00,  8.56it/s]\n",
      "Epoch 41/50 [Val]: 100%|██████████| 176/176 [00:13<00:00, 12.61it/s]\n"
     ]
    },
    {
     "name": "stdout",
     "output_type": "stream",
     "text": [
      "Epoch [41/50] - Train Loss: 1.9348, Val Loss: 6.6657, LR: 0.000063\n"
     ]
    },
    {
     "name": "stderr",
     "output_type": "stream",
     "text": [
      "Epoch 42/50 [Train]: 100%|██████████| 703/703 [01:21<00:00,  8.60it/s]\n",
      "Epoch 42/50 [Val]: 100%|██████████| 176/176 [00:14<00:00, 12.37it/s]\n"
     ]
    },
    {
     "name": "stdout",
     "output_type": "stream",
     "text": [
      "Epoch [42/50] - Train Loss: 1.9200, Val Loss: 6.6764, LR: 0.000063\n"
     ]
    },
    {
     "name": "stderr",
     "output_type": "stream",
     "text": [
      "Epoch 43/50 [Train]: 100%|██████████| 703/703 [01:21<00:00,  8.61it/s]\n",
      "Epoch 43/50 [Val]: 100%|██████████| 176/176 [00:13<00:00, 12.68it/s]\n"
     ]
    },
    {
     "name": "stdout",
     "output_type": "stream",
     "text": [
      "Epoch [43/50] - Train Loss: 1.9096, Val Loss: 6.6848, LR: 0.000063\n"
     ]
    },
    {
     "name": "stderr",
     "output_type": "stream",
     "text": [
      "Epoch 44/50 [Train]: 100%|██████████| 703/703 [01:21<00:00,  8.60it/s]\n",
      "Epoch 44/50 [Val]: 100%|██████████| 176/176 [00:14<00:00, 12.41it/s]\n"
     ]
    },
    {
     "name": "stdout",
     "output_type": "stream",
     "text": [
      "Epoch [44/50] - Train Loss: 1.8997, Val Loss: 6.6950, LR: 0.000063\n"
     ]
    },
    {
     "name": "stderr",
     "output_type": "stream",
     "text": [
      "Epoch 45/50 [Train]: 100%|██████████| 703/703 [01:21<00:00,  8.62it/s]\n",
      "Epoch 45/50 [Val]: 100%|██████████| 176/176 [00:14<00:00, 12.40it/s]\n"
     ]
    },
    {
     "name": "stdout",
     "output_type": "stream",
     "text": [
      "Epoch [45/50] - Train Loss: 1.8933, Val Loss: 6.7043, LR: 0.000063\n"
     ]
    },
    {
     "name": "stderr",
     "output_type": "stream",
     "text": [
      "Epoch 46/50 [Train]: 100%|██████████| 703/703 [01:22<00:00,  8.55it/s]\n",
      "Epoch 46/50 [Val]: 100%|██████████| 176/176 [00:14<00:00, 12.30it/s]\n"
     ]
    },
    {
     "name": "stdout",
     "output_type": "stream",
     "text": [
      "Epoch [46/50] - Train Loss: 1.8847, Val Loss: 6.7174, LR: 0.000063\n"
     ]
    },
    {
     "name": "stderr",
     "output_type": "stream",
     "text": [
      "Epoch 47/50 [Train]: 100%|██████████| 703/703 [01:21<00:00,  8.61it/s]\n",
      "Epoch 47/50 [Val]: 100%|██████████| 176/176 [00:13<00:00, 12.64it/s]\n"
     ]
    },
    {
     "name": "stdout",
     "output_type": "stream",
     "text": [
      "Epoch [47/50] - Train Loss: 1.8763, Val Loss: 6.7244, LR: 0.000063\n"
     ]
    },
    {
     "name": "stderr",
     "output_type": "stream",
     "text": [
      "Epoch 48/50 [Train]: 100%|██████████| 703/703 [01:22<00:00,  8.57it/s]\n",
      "Epoch 48/50 [Val]: 100%|██████████| 176/176 [00:14<00:00, 12.57it/s]\n"
     ]
    },
    {
     "name": "stdout",
     "output_type": "stream",
     "text": [
      "Epoch [48/50] - Train Loss: 1.8653, Val Loss: 6.7297, LR: 0.000063\n"
     ]
    },
    {
     "name": "stderr",
     "output_type": "stream",
     "text": [
      "Epoch 49/50 [Train]: 100%|██████████| 703/703 [01:21<00:00,  8.58it/s]\n",
      "Epoch 49/50 [Val]: 100%|██████████| 176/176 [00:14<00:00, 12.39it/s]\n"
     ]
    },
    {
     "name": "stdout",
     "output_type": "stream",
     "text": [
      "Epoch [49/50] - Train Loss: 1.8585, Val Loss: 6.7445, LR: 0.000063\n"
     ]
    },
    {
     "name": "stderr",
     "output_type": "stream",
     "text": [
      "Epoch 50/50 [Train]: 100%|██████████| 703/703 [01:21<00:00,  8.61it/s]\n",
      "Epoch 50/50 [Val]: 100%|██████████| 176/176 [00:14<00:00, 12.55it/s]"
     ]
    },
    {
     "name": "stdout",
     "output_type": "stream",
     "text": [
      "Epoch [50/50] - Train Loss: 1.8499, Val Loss: 6.7544, LR: 0.000063\n"
     ]
    },
    {
     "name": "stderr",
     "output_type": "stream",
     "text": [
      "\n"
     ]
    }
   ],
   "execution_count": 12
  },
  {
   "metadata": {
    "ExecuteTime": {
     "end_time": "2025-03-15T04:16:24.082512Z",
     "start_time": "2025-03-15T04:16:23.944413Z"
    }
   },
   "cell_type": "code",
   "source": [
    "plt.figure()\n",
    "plt.plot(range(1, num_epochs+1), train_losses, label='Train Loss')\n",
    "plt.plot(range(1, num_epochs+1), val_losses, label='Val Loss')\n",
    "plt.xlabel('Epoch')\n",
    "plt.ylabel('Loss')\n",
    "plt.legend()\n",
    "plt.title('Training & Validation Loss')\n",
    "plt.show()"
   ],
   "id": "e771dd79d04e8b48",
   "outputs": [
    {
     "data": {
      "text/plain": [
       "<Figure size 640x480 with 1 Axes>"
      ],
      "image/png": "[encoded data removed]"
     },
     "metadata": {},
     "output_type": "display_data"
    }
   ],
   "execution_count": 13
  },
  {
   "metadata": {
    "ExecuteTime": {
     "end_time": "2025-03-15T04:16:24.762142Z",
     "start_time": "2025-03-15T04:16:24.163599Z"
    }
   },
   "cell_type": "code",
   "source": [
    "spacy.prefer_gpu()\n",
    "nlp = spacy.load(\"en_core_web_sm\", disable=[\"parser\", \"ner\", \"lemmatizer\"])\n",
    "\n",
    "def clean_text(text):\n",
    "    text = unescape(str(text))\n",
    "    text = re.sub(r'<\\/?[a-zA-Z_]+\\b[^>]*>', '', text, flags=re.IGNORECASE)\n",
    "    text = re.sub(r'&\\w+;', '', text)\n",
    "    text = re.sub(r'[<>]', '', text)\n",
    "\n",
    "    text = text.replace('\"', \"'\")\n",
    "    allowed_punct = r\"!?.,:;'\"\n",
    "    text = re.sub(fr\"[^\\w\\s{allowed_punct}]\", '', text)\n",
    "    text = re.sub(r\"\\s+([!?,.])\\s+\", r\" \\1 \", text)\n",
    "    text = re.sub(r\"\\s{2,}\", \" \", text).strip()\n",
    "    return text\n",
    "\n",
    "def normalize_text(text, is_title=False):\n",
    "    if is_title:\n",
    "        text = re.sub(r'\\b([A-Z]{2,})\\b', r'<KEEP_CAPS>\\1</KEEP_CAPS>', text)\n",
    "        text = titlecase(text.lower())\n",
    "        text = re.sub(r'<KEEP_CAPS>(.*?)</KEEP_CAPS>', lambda m: m.group(1).upper(), text)\n",
    "        return text\n",
    "    else:\n",
    "        return text.lower()\n",
    "\n",
    "def spacy_tokenize(text, nlp):\n",
    "    doc = nlp(text)  \n",
    "    punct_set = {\".\", \",\", \"!\", \"?\", \":\", \";\", \"'\"}\n",
    "    tokens = []\n",
    "    for token in doc:\n",
    "        tok_text = token.text.strip()\n",
    "        if not tok_text:\n",
    "            continue\n",
    "        if token.is_stop:\n",
    "            continue\n",
    "        if '_' in tok_text:\n",
    "            continue\n",
    "        if tok_text in punct_set:\n",
    "            tokens.append(tok_text)\n",
    "            continue\n",
    "        if re.match(r'^[a-z0-9]+$', tok_text) and len(tok_text) >= 2:\n",
    "            tokens.append(tok_text)\n",
    "    return tokens\n",
    "\n",
    "def text_to_sequence(tokens, vocab):\n",
    "    return [vocab.get('<start>', 1)] \\\n",
    "           + [vocab.get(tok, vocab.get('<unk>', 1)) for tok in tokens] \\\n",
    "           + [vocab.get('<end>', 1)]\n",
    "\n",
    "def process_inference_desc(text, vocab, nlp):\n",
    "    # 1) clean\n",
    "    text = clean_text(text)\n",
    "    # 2) normalize (desc => is_title=False)\n",
    "    text = normalize_text(text, is_title=False)\n",
    "    # 3) spacy tokenize\n",
    "    tokens = spacy_tokenize(text, nlp)\n",
    "    # 4) map to sequence with <start> / <end>\n",
    "    seq = text_to_sequence(tokens, vocab)\n",
    "    return seq\n"
   ],
   "id": "8d11adf9d38a2461",
   "outputs": [],
   "execution_count": 14
  },
  {
   "metadata": {
    "ExecuteTime": {
     "end_time": "2025-03-15T04:16:24.848407Z",
     "start_time": "2025-03-15T04:16:24.842887Z"
    }
   },
   "cell_type": "code",
   "source": [
    "def greedy_decode(model, src_tensor, max_len=30, sos_idx=2, eos_idx=3):\n",
    "    model.eval()\n",
    "    with torch.no_grad():\n",
    "        hidden = model.encoder(src_tensor)  # -> [num_layers, batch_size=1, hidden_dim]\n",
    "        batch_size = src_tensor.size(0)\n",
    "\n",
    "        input_step = torch.tensor([sos_idx]*batch_size, dtype=torch.long, device=src_tensor.device)\n",
    "\n",
    "        decoded_tokens = []\n",
    "        for _ in range(max_len):\n",
    "            output, hidden = model.decoder(input_step, hidden)\n",
    "            # output: [batch_size, vocab_size] => [1, vocab_size]\n",
    "            next_token = output.argmax(dim=1)  \n",
    "            decoded_tokens.append(next_token.item())\n",
    "            if next_token.item() == eos_idx:\n",
    "                break\n",
    "            input_step = next_token\n",
    "\n",
    "        return decoded_tokens\n",
    "\n",
    "def convert_ids_to_text(id_list, reverse_vocab):\n",
    "    special_tokens = set([\"<pad>\", \"<unk>\", \"<start>\", \"<end>\"])\n",
    "    words = []\n",
    "    for idx in id_list:\n",
    "        w = reverse_vocab.get(idx, \"<unk>\")\n",
    "        # filter out special tokens\n",
    "        if w not in special_tokens:\n",
    "            words.append(w)\n",
    "    return \" \".join(words)"
   ],
   "id": "4284b642f30cf2ee",
   "outputs": [],
   "execution_count": 15
  },
  {
   "metadata": {
    "ExecuteTime": {
     "end_time": "2025-03-15T04:45:10.183728Z",
     "start_time": "2025-03-15T04:45:10.129592Z"
    }
   },
   "cell_type": "code",
   "source": [
    "test_text_1 = \"tokyo ap a lunar orbiter that japan had planned to launch this year could face further delays, possibly until next year or later, because of a funding shortfall and problems developing the probe's informationgathering capabilities, japan's space agency said wednesday. the japan aerospace exploration agency, or jaxa, released a report to a governmentrun commission explaining expected delays to the launch of the 135 million lunara probe...\"\n",
    "test_text_2 = \"advanced micro devices inc.'s amd inc.'s 90nanometer notebook processors are on their way to customers, according to a research note published by goldman sachs co. thursday.advertisementintroducing ibm eserver p5 systems.powered by ibms most advanced 64bit microprocessor power5tm, p5 systems can run unix and linux simultaneously. learn more about eserver p5 systems.\"\n",
    "\n",
    "for i, test_text in enumerate([test_text_1, test_text_2], start=1):\n",
    "    # 1) convert text to sequence\n",
    "    seq = process_inference_desc(test_text, vocab, nlp)\n",
    "\n",
    "    # 2) convert to tensor\n",
    "    src_tensor = torch.tensor(seq, dtype=torch.long).unsqueeze(0).to(device)\n",
    "\n",
    "    # 3) greedy decoding\n",
    "    sos_idx = vocab[\"<start>\"]\n",
    "    eos_idx = vocab[\"<end>\"]\n",
    "    decoded_ids = greedy_decode(model, src_tensor, max_len=30,\n",
    "                                sos_idx=sos_idx, eos_idx=eos_idx)\n",
    "\n",
    "    # 4) convert ids to text\n",
    "    pred_title = convert_ids_to_text(decoded_ids, reverse_vocab)\n",
    "\n",
    "    print(f\"===== Input {i} =====\")\n",
    "    print(\"Original text (desc):\", test_text)\n",
    "    print(\"Predicted Title:\", pred_title)\n"
   ],
   "id": "7206ef1af93bd190",
   "outputs": [
    {
     "name": "stdout",
     "output_type": "stream",
     "text": [
      "===== Input 1 =====\n",
      "Original text (desc): tokyo ap a lunar orbiter that japan had planned to launch this year could face further delays, possibly until next year or later, because of a funding shortfall and problems developing the probe's informationgathering capabilities, japan's space agency said wednesday. the japan aerospace exploration agency, or jaxa, released a report to a governmentrun commission explaining expected delays to the launch of the 135 million lunara probe...\n",
      "Predicted Title: japan lunar delays lunar\n",
      "===== Input 2 =====\n",
      "Original text (desc): advanced micro devices inc.'s amd inc.'s 90nanometer notebook processors are on their way to customers, according to a research note published by goldman sachs co. thursday.advertisementintroducing ibm eserver p5 systems.powered by ibms most advanced 64bit microprocessor power5tm, p5 systems can run unix and linux simultaneously. learn more about eserver p5 systems.\n",
      "Predicted Title: , athlon , athlon athlon 64 3000\n"
     ]
    }
   ],
   "execution_count": 17
  },
  {
   "metadata": {
    "ExecuteTime": {
     "end_time": "2025-03-15T04:16:25.062220Z",
     "start_time": "2025-03-15T04:16:25.059209Z"
    }
   },
   "cell_type": "code",
   "source": "",
   "id": "f42d4ec0cada2ecf",
   "outputs": [],
   "execution_count": null
  }
 ],
 "metadata": {
  "kernelspec": {
   "display_name": "Python 3",
   "language": "python",
   "name": "python3"
  },
  "language_info": {
   "codemirror_mode": {
    "name": "ipython",
    "version": 2
   },
   "file_extension": ".py",
   "mimetype": "text/x-python",
   "name": "python",
   "nbconvert_exporter": "python",
   "pygments_lexer": "ipython2",
   "version": "2.7.6"
  }
 },
 "nbformat": 4,
 "nbformat_minor": 5
}
