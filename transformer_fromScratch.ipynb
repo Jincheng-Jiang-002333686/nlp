{
 "cells": [
  {
   "cell_type": "code",
   "id": "initial_id",
   "metadata": {
    "collapsed": true,
    "ExecuteTime": {
     "end_time": "2025-03-16T17:38:55.376144Z",
     "start_time": "2025-03-16T17:38:48.240085Z"
    }
   },
   "source": [
    "import pandas as pd\n",
    "import torch\n",
    "from torch.nn.utils.rnn import pad_sequence\n",
    "from torch.utils.data import Dataset, DataLoader\n",
    "import torch.nn as nn\n",
    "import torch.optim as optim\n",
    "from tqdm import tqdm\n",
    "from sklearn.model_selection import train_test_split\n",
    "from html import unescape\n",
    "import re\n",
    "import spacy\n",
    "from titlecase import titlecase\n",
    "import matplotlib.pyplot as plt\n",
    "import math\n",
    "import torch.nn.functional as F"
   ],
   "outputs": [],
   "execution_count": 1
  },
  {
   "metadata": {
    "ExecuteTime": {
     "end_time": "2025-03-16T17:38:55.835727Z",
     "start_time": "2025-03-16T17:38:55.383744Z"
    }
   },
   "cell_type": "code",
   "source": [
    "# load data\n",
    "processed_path = \"./processed_data.parquet\"\n",
    "df = pd.read_parquet(processed_path)\n",
    "\n",
    "# load vocab\n",
    "vocab_df = pd.read_csv(\"./vocab.csv\")\n",
    "vocab = {word: idx for word, idx in zip(vocab_df[\"word\"], vocab_df[\"id\"])}\n",
    "reverse_vocab = {idx: word for word, idx in vocab.items()}  # get reverse vocab\n",
    "\n",
    "pad_idx = vocab['<pad>']\n",
    "unk_idx = vocab['<unk>']\n",
    "sos_idx = vocab['<start>']\n",
    "eos_idx = vocab['<end>']"
   ],
   "id": "7f814f827885a9a1",
   "outputs": [],
   "execution_count": 2
  },
  {
   "metadata": {
    "ExecuteTime": {
     "end_time": "2025-03-16T17:38:56.178039Z",
     "start_time": "2025-03-16T17:38:56.172031Z"
    }
   },
   "cell_type": "code",
   "source": [
    "def collate_fn(batch):\n",
    "    \"\"\"\n",
    "    batch: List of (input_seq, target_seq)\n",
    "    \"\"\"\n",
    "    input_seqs  = [torch.tensor(item[0], dtype=torch.long) for item in batch]\n",
    "    target_seqs = [torch.tensor(item[1], dtype=torch.long) for item in batch]\n",
    "\n",
    "    # padding to the max length in batch\n",
    "    padded_inputs = pad_sequence(input_seqs,\n",
    "                                 batch_first=True,\n",
    "                                 padding_value=pad_idx)\n",
    "\n",
    "    padded_targets = pad_sequence(target_seqs,\n",
    "                                  batch_first=True,\n",
    "                                  padding_value=pad_idx)\n",
    "\n",
    "    return padded_inputs, padded_targets"
   ],
   "id": "da3206970d0a4fbc",
   "outputs": [],
   "execution_count": 3
  },
  {
   "metadata": {
    "ExecuteTime": {
     "end_time": "2025-03-16T17:38:56.205109Z",
     "start_time": "2025-03-16T17:38:56.196346Z"
    }
   },
   "cell_type": "code",
   "source": [
    "class AGNewsDataset(Dataset):\n",
    "    def __init__(self, dataframe, input_col=\"desc_seq\", target_col=\"title_seq\",\n",
    "                 max_input_len=200, max_target_len=20):\n",
    "        self.sos_idx = vocab['<start>']\n",
    "        self.eos_idx = vocab['<end>']\n",
    "        self.pad_idx = vocab['<pad>']\n",
    "        self.max_input_len = max_input_len\n",
    "        self.max_target_len = max_target_len\n",
    "\n",
    "        self.samples = []\n",
    "        for idx, row in dataframe.iterrows():\n",
    "            input_seq = self._process_seq(row[input_col].tolist(), self.max_input_len, is_target=False)\n",
    "            target_seq = self._process_seq(row[target_col].tolist(), self.max_target_len, is_target=True)\n",
    "\n",
    "            if self._is_valid(input_seq) and self._is_valid(target_seq):\n",
    "                self.samples.append((input_seq, target_seq))\n",
    "\n",
    "    def _process_seq(self, raw_seq, max_len, is_target):\n",
    "        \"\"\"ensure the seq structure：[<start>, tokens..., <end>, <pad>...]\"\"\"\n",
    "        filtered = [x for x in raw_seq if x not in (self.sos_idx, self.eos_idx, self.pad_idx)]\n",
    "\n",
    "        content_max_len = max_len - 2  \n",
    "        truncated = filtered[:content_max_len]\n",
    "\n",
    "        processed = [self.sos_idx] + truncated + [self.eos_idx]\n",
    "\n",
    "        # padding to max_len\n",
    "        if len(processed) < max_len:\n",
    "            processed += [self.pad_idx] * (max_len - len(processed))\n",
    "        else:\n",
    "            processed = processed[:max_len]  \n",
    "            processed[-1] = self.eos_idx  \n",
    "\n",
    "        return processed\n",
    "\n",
    "    def _is_valid(self, seq):\n",
    "        \"\"\"ensure the seq structure：[<start>, tokens..., <end>]\"\"\"\n",
    "        has_start = self.sos_idx in seq\n",
    "        has_end = self.eos_idx in seq\n",
    "        start_pos = seq.index(self.sos_idx) if has_start else -1\n",
    "        end_pos = seq.index(self.eos_idx) if has_end else -1\n",
    "        content = seq[start_pos+1:end_pos] if (has_start and has_end) else []\n",
    "        return has_start and has_end and (len(content) >= 1)\n",
    "\n",
    "    def __len__(self):\n",
    "        return len(self.samples)\n",
    "\n",
    "    def __getitem__(self, idx):\n",
    "        return self.samples[idx]"
   ],
   "id": "ac7ff6d422d771d2",
   "outputs": [],
   "execution_count": 4
  },
  {
   "metadata": {
    "ExecuteTime": {
     "end_time": "2025-03-16T17:39:02.542219Z",
     "start_time": "2025-03-16T17:38:56.273780Z"
    }
   },
   "cell_type": "code",
   "source": [
    "train_df, test_df = train_test_split(df, test_size=0.2, random_state=42)\n",
    "\n",
    "train_dataset = AGNewsDataset(train_df, input_col=\"desc_seq\", target_col=\"title_seq\",\n",
    "                              max_input_len=200, max_target_len=20)\n",
    "test_dataset  = AGNewsDataset(test_df, input_col=\"desc_seq\", target_col=\"title_seq\",\n",
    "                              max_input_len=200, max_target_len=20)\n",
    "\n",
    "train_dataloader = DataLoader(train_dataset, batch_size=128, shuffle=True, collate_fn=collate_fn)\n",
    "test_dataloader  = DataLoader(test_dataset,  batch_size=128, shuffle=False, collate_fn=collate_fn)"
   ],
   "id": "b18a089bd8e61f0",
   "outputs": [],
   "execution_count": 5
  },
  {
   "metadata": {
    "ExecuteTime": {
     "end_time": "2025-03-16T17:39:02.578007Z",
     "start_time": "2025-03-16T17:39:02.568178Z"
    }
   },
   "cell_type": "code",
   "source": [
    "class TransformerConfig:\n",
    "    def __init__(self):\n",
    "        self.vocab_size = 37943  \n",
    "        self.pad_idx = 0\n",
    "        self.sos_idx = 2\n",
    "        self.eos_idx = 3\n",
    "\n",
    "        self.d_model = 512\n",
    "        self.nhead = 8\n",
    "        self.num_encoder_layers = 6\n",
    "        self.num_decoder_layers = 6\n",
    "        self.dim_feedforward = 2048\n",
    "        self.dropout = 0.2\n",
    "\n",
    "        self.enc_max_len = 200\n",
    "        self.dec_max_len = 20\n",
    "\n",
    "        self.share_final_proj = False"
   ],
   "id": "6569a55044a21003",
   "outputs": [],
   "execution_count": 6
  },
  {
   "metadata": {
    "ExecuteTime": {
     "end_time": "2025-03-16T17:39:02.608563Z",
     "start_time": "2025-03-16T17:39:02.603845Z"
    }
   },
   "cell_type": "code",
   "source": [
    "def generate_square_subsequent_mask(sz: int) -> torch.Tensor:\n",
    "    \"\"\"Generate boolean causal mask for transformer decoder\"\"\"\n",
    "    mask = torch.triu(torch.ones(sz, sz, dtype=torch.bool), diagonal=1)\n",
    "    return mask  # [sz, sz], dtype=torch.bool"
   ],
   "id": "fbe228c5d286b954",
   "outputs": [],
   "execution_count": 7
  },
  {
   "metadata": {
    "ExecuteTime": {
     "end_time": "2025-03-16T17:39:02.640230Z",
     "start_time": "2025-03-16T17:39:02.633419Z"
    }
   },
   "cell_type": "code",
   "source": [
    "class PositionalEncoding(nn.Module):\n",
    "    def __init__(self, d_model: int, dropout: float = 0.2, max_len: int = 500):\n",
    "        super().__init__()\n",
    "        self.dropout = nn.Dropout(p=dropout)\n",
    "\n",
    "        # Initialize positional encoding matrix [max_len, d_model]\n",
    "        pe = torch.zeros(max_len, d_model)\n",
    "        position = torch.arange(max_len, dtype=torch.float).unsqueeze(1)  # [max_len, 1]\n",
    "\n",
    "        div_term = torch.exp(\n",
    "            torch.arange(0, d_model, 2, dtype=torch.float) *\n",
    "            (-math.log(10000.0) / d_model)  \n",
    "        )  # [d_model/2]\n",
    "\n",
    "        # Apply trigonometric functions to even and odd positions\n",
    "        pe[:, 0::2] = torch.sin(position * div_term)  # Even indices: sine\n",
    "        pe[:, 1::2] = torch.cos(position * div_term)  # Odd indices: cosine\n",
    "\n",
    "        self.register_buffer('pe', pe)\n",
    "\n",
    "        # Numerical range validation (commented out by default)\n",
    "        # print(f\"PE value range - min: {pe.min().item():.4f}, max: {pe.max().item():.4f}\")\n",
    "\n",
    "    def forward(self, x: torch.Tensor) -> torch.Tensor:\n",
    "        x = x + self.pe[:x.size(1), :].unsqueeze(0)\n",
    "        return self.dropout(x)"
   ],
   "id": "3be07af14796ca4d",
   "outputs": [],
   "execution_count": 8
  },
  {
   "metadata": {
    "ExecuteTime": {
     "end_time": "2025-03-16T17:39:02.672415Z",
     "start_time": "2025-03-16T17:39:02.664213Z"
    }
   },
   "cell_type": "code",
   "source": [
    "class MultiHeadAttention(nn.Module):\n",
    "    def __init__(self, d_model: int, nhead: int, dropout: float = 0.2):\n",
    "        super().__init__()\n",
    "        assert d_model % nhead == 0, \"d_model must be divisible by nhead\"\n",
    "\n",
    "        self.d_model = d_model\n",
    "        self.nhead = nhead\n",
    "        self.head_dim = d_model // nhead\n",
    "\n",
    "        # Define linear projection layers\n",
    "        self.Wq = nn.Linear(d_model, d_model)  # Query projection\n",
    "        self.Wk = nn.Linear(d_model, d_model)  # Key projection\n",
    "        self.Wv = nn.Linear(d_model, d_model)  # Value projection\n",
    "        self.out_proj = nn.Linear(d_model, d_model)  # Final output projection\n",
    "\n",
    "        self.dropout = nn.Dropout(dropout)\n",
    "\n",
    "    def forward(self, query: torch.Tensor, key: torch.Tensor, value: torch.Tensor,\n",
    "                key_padding_mask: torch.Tensor = None,  # Shape: [batch_size, seq_len]\n",
    "                attn_mask: torch.Tensor = None):         # Shape: [tgt_len, src_len]\n",
    "        \"\"\"\n",
    "        query: [batch_size, tgt_len, d_model]\n",
    "        key:   [batch_size, src_len, d_model]\n",
    "        value: [batch_size, src_len, d_model]\n",
    "        \n",
    "        returns：\n",
    "        attn_output: [batch_size, tgt_len, d_model]\n",
    "        attn_weights: [batch_size, nhead, tgt_len, src_len]\n",
    "        \"\"\"\n",
    "        batch_size = query.size(0)\n",
    "\n",
    "        # Step 1: Linear projections and multi-head splitting\n",
    "        Q = self.Wq(query).view(batch_size, -1, self.nhead, self.head_dim).transpose(1, 2)  # [B, nh, T, hd]\n",
    "        K = self.Wk(key).view(batch_size, -1, self.nhead, self.head_dim).transpose(1, 2)      # [B, nh, S, hd]\n",
    "        V = self.Wv(value).view(batch_size, -1, self.nhead, self.head_dim).transpose(1, 2)   # [B, nh, S, hd]\n",
    "\n",
    "        # Step 2: Compute scaled dot-product attention\n",
    "        attn_scores = torch.matmul(Q, K.transpose(-2, -1)) / (self.head_dim ** 0.5)  # [B, nh, T, S]\n",
    "\n",
    "        # Step 3: Apply attention mask (causal mask)\n",
    "        if attn_mask is not None:\n",
    "            # [T, S] -> [B, nh, T, S]\n",
    "            attn_scores.masked_fill_(attn_mask.unsqueeze(0).unsqueeze(0), float('-inf'))\n",
    "\n",
    "        # Step 4: Apply key padding mask\n",
    "        if key_padding_mask is not None:\n",
    "            # [B, S] -> [B, 1, 1, S]\n",
    "            key_padding_mask = key_padding_mask.view(batch_size, 1, 1, -1)\n",
    "            attn_scores = attn_scores.masked_fill(key_padding_mask, float('-inf'))\n",
    "\n",
    "        # Step 5: Compute attention weights\n",
    "        attn_weights = F.softmax(attn_scores, dim=-1)  # [B, nh, T, S]\n",
    "        attn_weights = self.dropout(attn_weights)\n",
    "\n",
    "        # Step 6: Compute context vectors\n",
    "        context = torch.matmul(attn_weights, V)  # [B, nh, T, hd]\n",
    "\n",
    "        # Step 7: Combine multi-head outputs\n",
    "        context = context.transpose(1, 2).contiguous().view(batch_size, -1, self.d_model)  # [B, T, d_model]\n",
    "\n",
    "        # Step 8: Final output projection\n",
    "        attn_output = self.out_proj(context)\n",
    "\n",
    "        return attn_output, attn_weights"
   ],
   "id": "60b672466f3dabc8",
   "outputs": [],
   "execution_count": 9
  },
  {
   "metadata": {
    "ExecuteTime": {
     "end_time": "2025-03-16T17:39:02.702569Z",
     "start_time": "2025-03-16T17:39:02.696115Z"
    }
   },
   "cell_type": "code",
   "source": [
    "class FeedForward(nn.Module):\n",
    "    def __init__(self, d_model: int, dim_feedforward: int, dropout: float = 0.2):\n",
    "        super().__init__()\n",
    "        self.linear1 = nn.Linear(d_model, dim_feedforward)\n",
    "        self.activation = nn.ReLU()\n",
    "        self.dropout = nn.Dropout(dropout)\n",
    "        self.linear2 = nn.Linear(dim_feedforward, d_model)\n",
    "\n",
    "        # Initialize parameters (optional but recommended)\n",
    "        self._reset_parameters()\n",
    "\n",
    "    def _reset_parameters(self):\n",
    "        \"\"\"Xavier uniform initialization for linear layers\"\"\"\n",
    "        nn.init.xavier_uniform_(self.linear1.weight)\n",
    "        nn.init.xavier_uniform_(self.linear2.weight)\n",
    "        nn.init.constant_(self.linear1.bias, 0.)\n",
    "        nn.init.constant_(self.linear2.bias, 0.)\n",
    "\n",
    "    def forward(self, x: torch.Tensor) -> torch.Tensor:\n",
    "        \"\"\"\n",
    "        Args:\n",
    "            x: Input tensor of shape [batch_size, seq_len, d_model]\n",
    "            \n",
    "        Returns:\n",
    "            Output tensor of shape [batch_size, seq_len, d_model]\n",
    "        \"\"\"\n",
    "        x = self.linear1(x)        # [B, L, dim_feedforward]\n",
    "        x = self.activation(x)      # Non-linear activation\n",
    "        x = self.dropout(x)         # Apply dropout regularization\n",
    "        x = self.linear2(x)         # [B, L, d_model]\n",
    "        return x"
   ],
   "id": "b1b362fac0557342",
   "outputs": [],
   "execution_count": 10
  },
  {
   "metadata": {
    "ExecuteTime": {
     "end_time": "2025-03-16T17:39:02.733117Z",
     "start_time": "2025-03-16T17:39:02.727662Z"
    }
   },
   "cell_type": "code",
   "source": [
    "class EncoderLayer(nn.Module):\n",
    "    def __init__(self, config):\n",
    "        super().__init__()\n",
    "        self.self_attn = MultiHeadAttention(\n",
    "            d_model=config.d_model,\n",
    "            nhead=config.nhead,\n",
    "            dropout=config.dropout\n",
    "        )\n",
    "        self.ff = FeedForward(\n",
    "            d_model=config.d_model,\n",
    "            dim_feedforward=config.dim_feedforward,\n",
    "            dropout=config.dropout\n",
    "        )\n",
    "        self.norm1 = nn.LayerNorm(config.d_model)\n",
    "        self.norm2 = nn.LayerNorm(config.d_model)\n",
    "        self.dropout = nn.Dropout(config.dropout)\n",
    "\n",
    "    def forward(self, src: torch.Tensor,\n",
    "                src_mask: torch.Tensor = None,\n",
    "                src_key_padding_mask: torch.Tensor = None) -> torch.Tensor:\n",
    "        \"\"\"\n",
    "        Args:\n",
    "            src: Input sequence [batch_size, src_seq_len, d_model]\n",
    "            src_mask: Optional attention mask [src_seq_len, src_seq_len] \n",
    "                     (typically not needed for encoder)\n",
    "            src_key_padding_mask: Boolean mask [batch_size, src_seq_len] \n",
    "                                 (True indicates padding positions)\n",
    "        \n",
    "        Returns:\n",
    "            Encoded output [batch_size, src_seq_len, d_model]\n",
    "        \"\"\"\n",
    "        # Self-attention sublayer\n",
    "        attn_output, _ = self.self_attn(\n",
    "            query=src,  # [B, L, D]\n",
    "            key=src,    # [B, L, D]\n",
    "            value=src,  # [B, L, D]\n",
    "            attn_mask=src_mask,              \n",
    "            key_padding_mask=src_key_padding_mask  # Filter padding positions\n",
    "        )\n",
    "\n",
    "        # Residual connection + LayerNorm\n",
    "        src = src + self.dropout(attn_output)  # [B, L, D] + [B, L, D] → [B, L, D]\n",
    "        src = self.norm1(src)  # Maintain dimension\n",
    "\n",
    "        # Feed-forward sublayer\n",
    "        ff_output = self.ff(src)  # [B, L, D] → [B, L, D]\n",
    "\n",
    "        # Residual connection + LayerNorm\n",
    "        src = src + self.dropout(ff_output)  # [B, L, D] + [B, L, D] → [B, L, D]\n",
    "        src = self.norm2(src)\n",
    "\n",
    "        return src"
   ],
   "id": "3ca8525e8bfbc714",
   "outputs": [],
   "execution_count": 11
  },
  {
   "metadata": {
    "ExecuteTime": {
     "end_time": "2025-03-16T17:39:02.766142Z",
     "start_time": "2025-03-16T17:39:02.760243Z"
    }
   },
   "cell_type": "code",
   "source": [
    "class Encoder(nn.Module):\n",
    "    def __init__(self, config):\n",
    "        super().__init__()\n",
    "        self.embedding = nn.Embedding(\n",
    "            num_embeddings=config.vocab_size,\n",
    "            embedding_dim=config.d_model,\n",
    "            padding_idx=config.pad_idx\n",
    "        )\n",
    "        self.pos_encoder = PositionalEncoding(\n",
    "            d_model=config.d_model,\n",
    "            dropout=config.dropout,\n",
    "            max_len=config.enc_max_len\n",
    "        )\n",
    "        self.layers = nn.ModuleList([\n",
    "            EncoderLayer(config)\n",
    "            for _ in range(config.num_encoder_layers)\n",
    "        ])\n",
    "\n",
    "    def forward(self, src: torch.Tensor,\n",
    "                src_key_padding_mask: torch.Tensor = None) -> torch.Tensor:\n",
    "        \"\"\"\n",
    "        Args:\n",
    "            src: Input token indices [batch_size, src_seq_len]\n",
    "            src_key_padding_mask: Boolean mask [batch_size, src_seq_len] \n",
    "                                 (True indicates padding positions)\n",
    "        \n",
    "        Returns:\n",
    "            Encoded sequence [batch_size, src_seq_len, d_model]\n",
    "        \"\"\"\n",
    "        # 1. Embedding layer\n",
    "        src = self.embedding(src)  # [B, L] → [B, L, D]\n",
    "        src = self.pos_encoder(src)  # Add positional encodings\n",
    "\n",
    "        # 2. Process through encoder layers\n",
    "        for layer in self.layers:\n",
    "            src = layer(\n",
    "                src=src,\n",
    "                src_mask=None,  # Encoder doesn't need causal masking\n",
    "                src_key_padding_mask=src_key_padding_mask\n",
    "            )\n",
    "\n",
    "        return src"
   ],
   "id": "569a955c5b72a5a6",
   "outputs": [],
   "execution_count": 12
  },
  {
   "metadata": {
    "ExecuteTime": {
     "end_time": "2025-03-16T17:39:02.800406Z",
     "start_time": "2025-03-16T17:39:02.792740Z"
    }
   },
   "cell_type": "code",
   "source": [
    "class DecoderLayer(nn.Module):\n",
    "    def __init__(self, config):\n",
    "        super().__init__()\n",
    "        # Self-attention mechanism (processes target sequence)\n",
    "        self.self_attn = MultiHeadAttention(\n",
    "            d_model=config.d_model,\n",
    "            nhead=config.nhead,\n",
    "            dropout=config.dropout\n",
    "        )\n",
    "        # Encoder-decoder cross attention mechanism\n",
    "        self.cross_attn = MultiHeadAttention(\n",
    "            d_model=config.d_model,\n",
    "            nhead=config.nhead,\n",
    "            dropout=config.dropout\n",
    "        )\n",
    "        # Feed-forward network\n",
    "        self.ff = FeedForward(\n",
    "            d_model=config.d_model,\n",
    "            dim_feedforward=config.dim_feedforward,\n",
    "            dropout=config.dropout\n",
    "        )\n",
    "        # Three normalization layers\n",
    "        self.norm1 = nn.LayerNorm(config.d_model)\n",
    "        self.norm2 = nn.LayerNorm(config.d_model)\n",
    "        self.norm3 = nn.LayerNorm(config.d_model)\n",
    "        self.dropout = nn.Dropout(config.dropout)\n",
    "\n",
    "    def forward(self, tgt: torch.Tensor, memory: torch.Tensor,\n",
    "                tgt_mask: torch.Tensor = None,\n",
    "                memory_mask: torch.Tensor = None,\n",
    "                tgt_key_padding_mask: torch.Tensor = None,\n",
    "                memory_key_padding_mask: torch.Tensor = None) -> torch.Tensor:\n",
    "        \"\"\"\n",
    "        Args:\n",
    "            tgt: Target sequence [batch_size, tgt_seq_len, d_model]\n",
    "            memory: Encoder output [batch_size, src_seq_len, d_model]\n",
    "            tgt_mask: Target sequence causal mask [tgt_seq_len, tgt_seq_len]\n",
    "            tgt_key_padding_mask: Target padding mask [batch_size, tgt_seq_len]\n",
    "            memory_key_padding_mask: Source padding mask [batch_size, src_seq_len]\n",
    "        \"\"\"\n",
    "        # Self-attention sublayer\n",
    "        attn_output, _ = self.self_attn(\n",
    "            query=tgt,\n",
    "            key=tgt,\n",
    "            value=tgt,\n",
    "            attn_mask=tgt_mask,                 # Causal mask\n",
    "            key_padding_mask=tgt_key_padding_mask  # Target padding\n",
    "        )\n",
    "        tgt = tgt + self.dropout(attn_output)\n",
    "        tgt = self.norm1(tgt)  # [B, T, D]\n",
    "\n",
    "        # Encoder-decoder attention sublayer\n",
    "        cross_output, _ = self.cross_attn(\n",
    "            query=tgt,          # Query from decoder\n",
    "            key=memory,         # Key from encoder\n",
    "            value=memory,       # Value from encoder\n",
    "            key_padding_mask=memory_key_padding_mask  # Source padding\n",
    "        )\n",
    "        tgt = tgt + self.dropout(cross_output)\n",
    "        tgt = self.norm2(tgt)  # [B, T, D]\n",
    "\n",
    "        # Feed-forward sublayer\n",
    "        ff_output = self.ff(tgt)\n",
    "        tgt = tgt + self.dropout(ff_output)\n",
    "        tgt = self.norm3(tgt)  # [B, T, D]\n",
    "\n",
    "        return tgt"
   ],
   "id": "b2a18777b0978cba",
   "outputs": [],
   "execution_count": 13
  },
  {
   "metadata": {
    "ExecuteTime": {
     "end_time": "2025-03-16T17:39:02.834881Z",
     "start_time": "2025-03-16T17:39:02.828302Z"
    }
   },
   "cell_type": "code",
   "source": [
    "class Decoder(nn.Module):\n",
    "    def __init__(self, config):\n",
    "        super().__init__()\n",
    "        self.embedding = nn.Embedding(\n",
    "            num_embeddings=config.vocab_size,\n",
    "            embedding_dim=config.d_model,\n",
    "            padding_idx=config.pad_idx\n",
    "        )\n",
    "        self.pos_encoder = PositionalEncoding(\n",
    "            d_model=config.d_model,\n",
    "            dropout=config.dropout,\n",
    "            max_len=config.dec_max_len\n",
    "        )\n",
    "        self.layers = nn.ModuleList([\n",
    "            DecoderLayer(config)\n",
    "            for _ in range(config.num_decoder_layers)\n",
    "        ])\n",
    "        # Final output projection to vocabulary size\n",
    "        self.output_proj = nn.Linear(config.d_model, config.vocab_size)\n",
    "\n",
    "    def forward(self, tgt: torch.Tensor, memory: torch.Tensor,\n",
    "                tgt_mask: torch.Tensor = None,\n",
    "                memory_key_padding_mask: torch.Tensor = None,\n",
    "                tgt_key_padding_mask: torch.Tensor = None) -> torch.Tensor:\n",
    "        \"\"\"\n",
    "        Args:\n",
    "            tgt: Target sequence token indices [batch_size, tgt_seq_len]\n",
    "            memory: Encoder output [batch_size, src_seq_len, d_model]\n",
    "            tgt_mask: Target attention mask\n",
    "            memory_key_padding_mask: Memory padding mask\n",
    "            tgt_key_padding_mask: Target padding mask\n",
    "            \n",
    "        Returns:\n",
    "            Output logits [batch_size, tgt_seq_len, vocab_size]\n",
    "        \"\"\"\n",
    "        # Embedding layer with positional encoding\n",
    "        tgt = self.embedding(tgt)  # [B, T] → [B, T, D]\n",
    "        tgt = self.pos_encoder(tgt)  # [B, T, D]\n",
    "\n",
    "        # 逐层处理\n",
    "        for layer in self.layers:\n",
    "            tgt = layer(\n",
    "                tgt=tgt,\n",
    "                memory=memory,\n",
    "                tgt_mask=tgt_mask,\n",
    "                memory_key_padding_mask=memory_key_padding_mask,\n",
    "                tgt_key_padding_mask=tgt_key_padding_mask\n",
    "            )\n",
    "\n",
    "        # Final projection to vocabulary dimension\n",
    "        output = self.output_proj(tgt)  # [B, T, vocab_size]\n",
    "        return output"
   ],
   "id": "4f82fec6f382ce8f",
   "outputs": [],
   "execution_count": 14
  },
  {
   "metadata": {
    "ExecuteTime": {
     "end_time": "2025-03-16T17:39:02.870429Z",
     "start_time": "2025-03-16T17:39:02.861568Z"
    }
   },
   "cell_type": "code",
   "source": [
    "class Transformer(nn.Module):\n",
    "    def __init__(self, config):\n",
    "        super().__init__()\n",
    "        self.config = config\n",
    "\n",
    "        # Encoder components\n",
    "        self.encoder = Encoder(config)\n",
    "\n",
    "        # Decoder components\n",
    "        self.decoder = Decoder(config)\n",
    "\n",
    "        # Weight sharing logic (optional)\n",
    "        self._init_weights()\n",
    "\n",
    "    def _init_weights(self):\n",
    "        \"\"\"Weight initialization strategy\"\"\"\n",
    "        for p in self.parameters():\n",
    "            if p.dim() > 1:\n",
    "                nn.init.xavier_uniform_(p)\n",
    "\n",
    "        # Share embedding matrix between encoder/decoder\n",
    "        self.decoder.embedding.weight = self.encoder.embedding.weight\n",
    "        if self.config.share_final_proj:\n",
    "            self.decoder.output_proj.weight = self.encoder.embedding.weight\n",
    "\n",
    "    def forward(self, src: torch.Tensor, tgt: torch.Tensor,\n",
    "                src_key_padding_mask: torch.Tensor = None,\n",
    "                tgt_key_padding_mask: torch.Tensor = None) -> torch.Tensor:\n",
    "        \"\"\"\n",
    "        Full forward propagation process\n",
    "        Args:\n",
    "            src: Source sequence [batch_size, src_len]\n",
    "            tgt: Target sequence [batch_size, tgt_len]\n",
    "        \n",
    "        Returns:\n",
    "            logits: [batch_size, tgt_len, vocab_size]\n",
    "        \"\"\"\n",
    "        # Generate causal mask for target sequence\n",
    "        tgt_mask = self.generate_tgt_mask(tgt.size(1)).to(src.device)  # [tgt_len, tgt_len]\n",
    "\n",
    "        # Encoding phase\n",
    "        memory = self.encoder(\n",
    "            src=src,\n",
    "            src_key_padding_mask=src_key_padding_mask\n",
    "        )  # [B, S, D]\n",
    "\n",
    "        # Decoding phase\n",
    "        logits = self.decoder(\n",
    "            tgt=tgt,\n",
    "            memory=memory,\n",
    "            tgt_mask=tgt_mask,\n",
    "            tgt_key_padding_mask=tgt_key_padding_mask,\n",
    "            memory_key_padding_mask=src_key_padding_mask\n",
    "        )  # [B, T, V]\n",
    "\n",
    "        return logits\n",
    "\n",
    "    @staticmethod\n",
    "    def generate_tgt_mask(size: int) -> torch.Tensor:\n",
    "        \"\"\"Generate causal mask (upper triangular as True)\"\"\"\n",
    "        return generate_square_subsequent_mask(size)\n",
    "\n",
    "    def encode(self, src: torch.Tensor, src_key_padding_mask: torch.Tensor) -> torch.Tensor:  \n",
    "        \"\"\"Standalone encoding method (for inference)\"\"\"\n",
    "        return self.encoder(src, src_key_padding_mask=src_key_padding_mask) \n",
    "\n",
    "    def decode(self, tgt: torch.Tensor, memory: torch.Tensor,\n",
    "               tgt_mask: torch.Tensor, memory_key_padding_mask: torch.Tensor) -> torch.Tensor:  \n",
    "        \"\"\"Standalone decoding method (for inference)\"\"\"\n",
    "        return self.decoder(\n",
    "            tgt=tgt,\n",
    "            memory=memory,\n",
    "            tgt_mask=tgt_mask,\n",
    "            memory_key_padding_mask=memory_key_padding_mask  \n",
    "        )"
   ],
   "id": "4d400d3e4e6789a7",
   "outputs": [],
   "execution_count": 15
  },
  {
   "metadata": {
    "ExecuteTime": {
     "end_time": "2025-03-16T17:39:05.712908Z",
     "start_time": "2025-03-16T17:39:02.895815Z"
    }
   },
   "cell_type": "code",
   "source": [
    "config = TransformerConfig()\n",
    "device = torch.device(\"cuda\" if torch.cuda.is_available() else \"cpu\")\n",
    "\n",
    "# Initialize model\n",
    "model = Transformer(config).to(device)\n",
    "\n",
    "# Define optimizer and loss function\n",
    "d_model = 512\n",
    "warmup_steps = 7000 # 10 epochs\n",
    "\n",
    "optimizer = optim.Adam(\n",
    "    model.parameters(),\n",
    "    lr=d_model**-0.5,\n",
    "    betas=(0.9, 0.98),\n",
    "    eps=1e-9,\n",
    "    weight_decay=0.0\n",
    ")\n",
    "\n",
    "# Learning rate scheduler\n",
    "scheduler = optim.lr_scheduler.LambdaLR(\n",
    "    optimizer,\n",
    "    lr_lambda=lambda step: min(\n",
    "        (step + 1)**-0.5,\n",
    "        (step + 1) * (warmup_steps**-1.5)\n",
    "    )\n",
    ")\n",
    "criterion = torch.nn.CrossEntropyLoss(ignore_index=config.pad_idx)\n",
    "\n",
    "def train_epoch(model, dataloader, optimizer, criterion, scheduler, device):  # 添加scheduler参数\n",
    "    model.train()\n",
    "    total_loss = 0\n",
    "    progress_bar = tqdm(dataloader, desc=\"Training\", leave=False)\n",
    "\n",
    "    for batch in progress_bar:\n",
    "        src, tgt = batch\n",
    "        src, tgt = src.to(device), tgt.to(device)\n",
    "\n",
    "        # Forward pass\n",
    "        decoder_input = tgt[:, :-1]  # remove the last token\n",
    "        labels = tgt[:, 1:]          # remove the first token\n",
    "\n",
    "        # Create masks\n",
    "        src_pad_mask = (src == config.pad_idx)\n",
    "        tgt_pad_mask = (decoder_input == config.pad_idx)\n",
    "\n",
    "        optimizer.zero_grad()\n",
    "\n",
    "        logits = model(\n",
    "            src=src,\n",
    "            tgt=decoder_input,  \n",
    "            src_key_padding_mask=src_pad_mask,\n",
    "            tgt_key_padding_mask=tgt_pad_mask\n",
    "        )\n",
    "        loss = criterion(\n",
    "            logits.contiguous().view(-1, config.vocab_size),\n",
    "            labels.contiguous().view(-1)\n",
    "        )\n",
    "\n",
    "        # Backward propagation\n",
    "        loss.backward()\n",
    "        torch.nn.utils.clip_grad_norm_(model.parameters(), max_norm=3.0)\n",
    "        optimizer.step()\n",
    "\n",
    "        # Update learning rate per iteration\n",
    "        scheduler.step()\n",
    "\n",
    "        total_loss += loss.item()\n",
    "        # Display current learning rate\n",
    "        progress_bar.set_postfix({\n",
    "            'loss': f\"{loss.item():.4f}\",\n",
    "            'lr': f\"{optimizer.param_groups[0]['lr']:.2e}\"\n",
    "        })\n",
    "\n",
    "    return total_loss / len(dataloader)\n",
    "\n",
    "def evaluate(model, dataloader, criterion, device):\n",
    "    model.eval()\n",
    "    total_loss = 0\n",
    "    progress_bar = tqdm(dataloader, desc=\"Evaluating\", leave=False)\n",
    "\n",
    "    with torch.no_grad():\n",
    "        for batch in progress_bar:\n",
    "            src, tgt = batch\n",
    "            src, tgt = src.to(device), tgt.to(device)\n",
    "\n",
    "            src_mask = (src == config.pad_idx)\n",
    "            tgt_mask = (tgt == config.pad_idx)\n",
    "\n",
    "            logits = model(src, tgt[:, :-1],\n",
    "                           src_key_padding_mask=src_mask,\n",
    "                           tgt_key_padding_mask=tgt_mask[:, :-1])\n",
    "\n",
    "            loss = criterion(logits.view(-1, config.vocab_size),\n",
    "                             tgt[:, 1:].contiguous().view(-1))\n",
    "\n",
    "            total_loss += loss.item()\n",
    "            progress_bar.set_postfix({'val_loss': f\"{loss.item():.4f}\"})\n",
    "\n",
    "    return total_loss / len(dataloader)"
   ],
   "id": "abeba4cc1999f383",
   "outputs": [],
   "execution_count": 16
  },
  {
   "metadata": {
    "ExecuteTime": {
     "end_time": "2025-03-16T17:39:05.766705Z",
     "start_time": "2025-03-16T17:39:05.753437Z"
    }
   },
   "cell_type": "code",
   "source": [
    "def count_parameters(model):\n",
    "    return sum(p.numel() for p in model.parameters() if p.requires_grad)\n",
    "count_parameters(model)"
   ],
   "id": "d66d8dafb0d184e9",
   "outputs": [
    {
     "data": {
      "text/plain": [
       "83030071"
      ]
     },
     "execution_count": 17,
     "metadata": {},
     "output_type": "execute_result"
    }
   ],
   "execution_count": 17
  },
  {
   "metadata": {
    "ExecuteTime": {
     "end_time": "2025-03-17T00:39:13.584475Z",
     "start_time": "2025-03-16T17:39:05.846166Z"
    }
   },
   "cell_type": "code",
   "source": [
    "# Training loop\n",
    "train_losses = []\n",
    "val_losses = []\n",
    "best_val_loss = float('inf')\n",
    "epochs = 100  \n",
    "\n",
    "for epoch in range(epochs):\n",
    "    print(f\"\\nEpoch {epoch+1}/{epochs}\")\n",
    "\n",
    "    # Training phase (pass scheduler)\n",
    "    train_loss = train_epoch(model, train_dataloader, optimizer, criterion, scheduler, device)\n",
    "    train_losses.append(train_loss)\n",
    "\n",
    "    # Validation phase\n",
    "    val_loss = evaluate(model, test_dataloader, criterion, device)\n",
    "    val_losses.append(val_loss)\n",
    "\n",
    "    # Save best model (when epoch >80)\n",
    "    if epoch > 80:\n",
    "        if val_loss < best_val_loss:\n",
    "            best_val_loss = val_loss\n",
    "            torch.save({\n",
    "                'epoch': epoch,\n",
    "                'model_state_dict': model.state_dict(),\n",
    "                'optimizer_state_dict': optimizer.state_dict(),\n",
    "                'loss': val_loss,\n",
    "            }, f\"transformer-generation/best_model_epoch{epoch+1}_loss{val_loss:.4f}.pth\")\n",
    "            print(f\"Saving new best model with val loss: {val_loss:.4f}\")\n",
    "\n",
    "    current_lr = optimizer.param_groups[0]['lr']\n",
    "    print(f\"Train Loss: {train_loss:.4f} | Val Loss: {val_loss:.4f} | LR: {current_lr:.2e}\")"
   ],
   "id": "bc879a0ec90dd9ea",
   "outputs": [
    {
     "name": "stdout",
     "output_type": "stream",
     "text": [
      "\n",
      "Epoch 1/100\n"
     ]
    },
    {
     "name": "stderr",
     "output_type": "stream",
     "text": [
      "                                                                                     \r"
     ]
    },
    {
     "name": "stdout",
     "output_type": "stream",
     "text": [
      "Train Loss: 8.5397 | Val Loss: 7.3489 | LR: 5.31e-05\n",
      "\n",
      "Epoch 2/100\n"
     ]
    },
    {
     "name": "stderr",
     "output_type": "stream",
     "text": [
      "                                                                                     \r"
     ]
    },
    {
     "name": "stdout",
     "output_type": "stream",
     "text": [
      "Train Loss: 7.2699 | Val Loss: 7.2803 | LR: 1.06e-04\n",
      "\n",
      "Epoch 3/100\n"
     ]
    },
    {
     "name": "stderr",
     "output_type": "stream",
     "text": [
      "                                                                                     \r"
     ]
    },
    {
     "name": "stdout",
     "output_type": "stream",
     "text": [
      "Train Loss: 7.1605 | Val Loss: 7.2464 | LR: 1.59e-04\n",
      "\n",
      "Epoch 4/100\n"
     ]
    },
    {
     "name": "stderr",
     "output_type": "stream",
     "text": [
      "                                                                                     \r"
     ]
    },
    {
     "name": "stdout",
     "output_type": "stream",
     "text": [
      "Train Loss: 7.1079 | Val Loss: 7.2589 | LR: 2.12e-04\n",
      "\n",
      "Epoch 5/100\n"
     ]
    },
    {
     "name": "stderr",
     "output_type": "stream",
     "text": [
      "                                                                                     \r"
     ]
    },
    {
     "name": "stdout",
     "output_type": "stream",
     "text": [
      "Train Loss: 7.0697 | Val Loss: 7.1851 | LR: 2.65e-04\n",
      "\n",
      "Epoch 6/100\n"
     ]
    },
    {
     "name": "stderr",
     "output_type": "stream",
     "text": [
      "                                                                                     \r"
     ]
    },
    {
     "name": "stdout",
     "output_type": "stream",
     "text": [
      "Train Loss: 7.0238 | Val Loss: 7.1570 | LR: 3.18e-04\n",
      "\n",
      "Epoch 7/100\n"
     ]
    },
    {
     "name": "stderr",
     "output_type": "stream",
     "text": [
      "                                                                                     \r"
     ]
    },
    {
     "name": "stdout",
     "output_type": "stream",
     "text": [
      "Train Loss: 7.0008 | Val Loss: 7.1240 | LR: 3.71e-04\n",
      "\n",
      "Epoch 8/100\n"
     ]
    },
    {
     "name": "stderr",
     "output_type": "stream",
     "text": [
      "                                                                                     \r"
     ]
    },
    {
     "name": "stdout",
     "output_type": "stream",
     "text": [
      "Train Loss: 6.9876 | Val Loss: 7.1162 | LR: 4.24e-04\n",
      "\n",
      "Epoch 9/100\n"
     ]
    },
    {
     "name": "stderr",
     "output_type": "stream",
     "text": [
      "                                                                                     \r"
     ]
    },
    {
     "name": "stdout",
     "output_type": "stream",
     "text": [
      "Train Loss: 6.9792 | Val Loss: 7.1462 | LR: 4.78e-04\n",
      "\n",
      "Epoch 10/100\n"
     ]
    },
    {
     "name": "stderr",
     "output_type": "stream",
     "text": [
      "                                                                                     \r"
     ]
    },
    {
     "name": "stdout",
     "output_type": "stream",
     "text": [
      "Train Loss: 6.9752 | Val Loss: 7.1576 | LR: 5.27e-04\n",
      "\n",
      "Epoch 11/100\n"
     ]
    },
    {
     "name": "stderr",
     "output_type": "stream",
     "text": [
      "                                                                                     \r"
     ]
    },
    {
     "name": "stdout",
     "output_type": "stream",
     "text": [
      "Train Loss: 6.9618 | Val Loss: 7.2107 | LR: 5.03e-04\n",
      "\n",
      "Epoch 12/100\n"
     ]
    },
    {
     "name": "stderr",
     "output_type": "stream",
     "text": [
      "                                                                                     \r"
     ]
    },
    {
     "name": "stdout",
     "output_type": "stream",
     "text": [
      "Train Loss: 6.9888 | Val Loss: 7.2011 | LR: 4.81e-04\n",
      "\n",
      "Epoch 13/100\n"
     ]
    },
    {
     "name": "stderr",
     "output_type": "stream",
     "text": [
      "                                                                                     \r"
     ]
    },
    {
     "name": "stdout",
     "output_type": "stream",
     "text": [
      "Train Loss: 6.9687 | Val Loss: 7.1591 | LR: 4.62e-04\n",
      "\n",
      "Epoch 14/100\n"
     ]
    },
    {
     "name": "stderr",
     "output_type": "stream",
     "text": [
      "                                                                                     \r"
     ]
    },
    {
     "name": "stdout",
     "output_type": "stream",
     "text": [
      "Train Loss: 6.9397 | Val Loss: 7.1425 | LR: 4.45e-04\n",
      "\n",
      "Epoch 15/100\n"
     ]
    },
    {
     "name": "stderr",
     "output_type": "stream",
     "text": [
      "                                                                                     \r"
     ]
    },
    {
     "name": "stdout",
     "output_type": "stream",
     "text": [
      "Train Loss: 6.9074 | Val Loss: 7.1142 | LR: 4.30e-04\n",
      "\n",
      "Epoch 16/100\n"
     ]
    },
    {
     "name": "stderr",
     "output_type": "stream",
     "text": [
      "                                                                                     \r"
     ]
    },
    {
     "name": "stdout",
     "output_type": "stream",
     "text": [
      "Train Loss: 6.9173 | Val Loss: 7.0679 | LR: 4.17e-04\n",
      "\n",
      "Epoch 17/100\n"
     ]
    },
    {
     "name": "stderr",
     "output_type": "stream",
     "text": [
      "                                                                                     \r"
     ]
    },
    {
     "name": "stdout",
     "output_type": "stream",
     "text": [
      "Train Loss: 6.9392 | Val Loss: 7.0773 | LR: 4.04e-04\n",
      "\n",
      "Epoch 18/100\n"
     ]
    },
    {
     "name": "stderr",
     "output_type": "stream",
     "text": [
      "                                                                                     \r"
     ]
    },
    {
     "name": "stdout",
     "output_type": "stream",
     "text": [
      "Train Loss: 6.8936 | Val Loss: 7.0860 | LR: 3.93e-04\n",
      "\n",
      "Epoch 19/100\n"
     ]
    },
    {
     "name": "stderr",
     "output_type": "stream",
     "text": [
      "                                                                                     \r"
     ]
    },
    {
     "name": "stdout",
     "output_type": "stream",
     "text": [
      "Train Loss: 6.8659 | Val Loss: 7.0933 | LR: 3.82e-04\n",
      "\n",
      "Epoch 20/100\n"
     ]
    },
    {
     "name": "stderr",
     "output_type": "stream",
     "text": [
      "                                                                                     \r"
     ]
    },
    {
     "name": "stdout",
     "output_type": "stream",
     "text": [
      "Train Loss: 6.8618 | Val Loss: 7.0956 | LR: 3.73e-04\n",
      "\n",
      "Epoch 21/100\n"
     ]
    },
    {
     "name": "stderr",
     "output_type": "stream",
     "text": [
      "                                                                                     \r"
     ]
    },
    {
     "name": "stdout",
     "output_type": "stream",
     "text": [
      "Train Loss: 6.8434 | Val Loss: 7.0684 | LR: 3.64e-04\n",
      "\n",
      "Epoch 22/100\n"
     ]
    },
    {
     "name": "stderr",
     "output_type": "stream",
     "text": [
      "                                                                                     \r"
     ]
    },
    {
     "name": "stdout",
     "output_type": "stream",
     "text": [
      "Train Loss: 6.8160 | Val Loss: 7.0708 | LR: 3.55e-04\n",
      "\n",
      "Epoch 23/100\n"
     ]
    },
    {
     "name": "stderr",
     "output_type": "stream",
     "text": [
      "                                                                                     \r"
     ]
    },
    {
     "name": "stdout",
     "output_type": "stream",
     "text": [
      "Train Loss: 6.8077 | Val Loss: 7.0575 | LR: 3.48e-04\n",
      "\n",
      "Epoch 24/100\n"
     ]
    },
    {
     "name": "stderr",
     "output_type": "stream",
     "text": [
      "                                                                                     \r"
     ]
    },
    {
     "name": "stdout",
     "output_type": "stream",
     "text": [
      "Train Loss: 6.7836 | Val Loss: 7.0470 | LR: 3.40e-04\n",
      "\n",
      "Epoch 25/100\n"
     ]
    },
    {
     "name": "stderr",
     "output_type": "stream",
     "text": [
      "                                                                                     \r"
     ]
    },
    {
     "name": "stdout",
     "output_type": "stream",
     "text": [
      "Train Loss: 6.7639 | Val Loss: 7.0202 | LR: 3.33e-04\n",
      "\n",
      "Epoch 26/100\n"
     ]
    },
    {
     "name": "stderr",
     "output_type": "stream",
     "text": [
      "                                                                                     \r"
     ]
    },
    {
     "name": "stdout",
     "output_type": "stream",
     "text": [
      "Train Loss: 6.7547 | Val Loss: 7.0083 | LR: 3.27e-04\n",
      "\n",
      "Epoch 27/100\n"
     ]
    },
    {
     "name": "stderr",
     "output_type": "stream",
     "text": [
      "                                                                                     \r"
     ]
    },
    {
     "name": "stdout",
     "output_type": "stream",
     "text": [
      "Train Loss: 6.7308 | Val Loss: 6.9910 | LR: 3.21e-04\n",
      "\n",
      "Epoch 28/100\n"
     ]
    },
    {
     "name": "stderr",
     "output_type": "stream",
     "text": [
      "                                                                                     \r"
     ]
    },
    {
     "name": "stdout",
     "output_type": "stream",
     "text": [
      "Train Loss: 6.7241 | Val Loss: 6.9820 | LR: 3.15e-04\n",
      "\n",
      "Epoch 29/100\n"
     ]
    },
    {
     "name": "stderr",
     "output_type": "stream",
     "text": [
      "                                                                                     \r"
     ]
    },
    {
     "name": "stdout",
     "output_type": "stream",
     "text": [
      "Train Loss: 6.7131 | Val Loss: 6.9860 | LR: 3.10e-04\n",
      "\n",
      "Epoch 30/100\n"
     ]
    },
    {
     "name": "stderr",
     "output_type": "stream",
     "text": [
      "                                                                                     \r"
     ]
    },
    {
     "name": "stdout",
     "output_type": "stream",
     "text": [
      "Train Loss: 6.7121 | Val Loss: 7.0002 | LR: 3.04e-04\n",
      "\n",
      "Epoch 31/100\n"
     ]
    },
    {
     "name": "stderr",
     "output_type": "stream",
     "text": [
      "                                                                                     \r"
     ]
    },
    {
     "name": "stdout",
     "output_type": "stream",
     "text": [
      "Train Loss: 6.6963 | Val Loss: 6.9843 | LR: 2.99e-04\n",
      "\n",
      "Epoch 32/100\n"
     ]
    },
    {
     "name": "stderr",
     "output_type": "stream",
     "text": [
      "                                                                                     \r"
     ]
    },
    {
     "name": "stdout",
     "output_type": "stream",
     "text": [
      "Train Loss: 6.6749 | Val Loss: 6.9905 | LR: 2.95e-04\n",
      "\n",
      "Epoch 33/100\n"
     ]
    },
    {
     "name": "stderr",
     "output_type": "stream",
     "text": [
      "                                                                                     \r"
     ]
    },
    {
     "name": "stdout",
     "output_type": "stream",
     "text": [
      "Train Loss: 6.6648 | Val Loss: 6.9885 | LR: 2.90e-04\n",
      "\n",
      "Epoch 34/100\n"
     ]
    },
    {
     "name": "stderr",
     "output_type": "stream",
     "text": [
      "                                                                                     \r"
     ]
    },
    {
     "name": "stdout",
     "output_type": "stream",
     "text": [
      "Train Loss: 6.6488 | Val Loss: 7.0083 | LR: 2.86e-04\n",
      "\n",
      "Epoch 35/100\n"
     ]
    },
    {
     "name": "stderr",
     "output_type": "stream",
     "text": [
      "                                                                                     \r"
     ]
    },
    {
     "name": "stdout",
     "output_type": "stream",
     "text": [
      "Train Loss: 6.6367 | Val Loss: 6.9750 | LR: 2.82e-04\n",
      "\n",
      "Epoch 36/100\n"
     ]
    },
    {
     "name": "stderr",
     "output_type": "stream",
     "text": [
      "                                                                                     \r"
     ]
    },
    {
     "name": "stdout",
     "output_type": "stream",
     "text": [
      "Train Loss: 6.6332 | Val Loss: 6.9655 | LR: 2.78e-04\n",
      "\n",
      "Epoch 37/100\n"
     ]
    },
    {
     "name": "stderr",
     "output_type": "stream",
     "text": [
      "                                                                                     \r"
     ]
    },
    {
     "name": "stdout",
     "output_type": "stream",
     "text": [
      "Train Loss: 6.6356 | Val Loss: 6.9685 | LR: 2.74e-04\n",
      "\n",
      "Epoch 38/100\n"
     ]
    },
    {
     "name": "stderr",
     "output_type": "stream",
     "text": [
      "                                                                                     \r"
     ]
    },
    {
     "name": "stdout",
     "output_type": "stream",
     "text": [
      "Train Loss: 6.6134 | Val Loss: 6.9706 | LR: 2.70e-04\n",
      "\n",
      "Epoch 39/100\n"
     ]
    },
    {
     "name": "stderr",
     "output_type": "stream",
     "text": [
      "                                                                                     \r"
     ]
    },
    {
     "name": "stdout",
     "output_type": "stream",
     "text": [
      "Train Loss: 6.6094 | Val Loss: 6.9656 | LR: 2.67e-04\n",
      "\n",
      "Epoch 40/100\n"
     ]
    },
    {
     "name": "stderr",
     "output_type": "stream",
     "text": [
      "                                                                                     \r"
     ]
    },
    {
     "name": "stdout",
     "output_type": "stream",
     "text": [
      "Train Loss: 6.6025 | Val Loss: 6.9533 | LR: 2.64e-04\n",
      "\n",
      "Epoch 41/100\n"
     ]
    },
    {
     "name": "stderr",
     "output_type": "stream",
     "text": [
      "                                                                                     \r"
     ]
    },
    {
     "name": "stdout",
     "output_type": "stream",
     "text": [
      "Train Loss: 6.6012 | Val Loss: 6.9612 | LR: 2.60e-04\n",
      "\n",
      "Epoch 42/100\n"
     ]
    },
    {
     "name": "stderr",
     "output_type": "stream",
     "text": [
      "                                                                                     \r"
     ]
    },
    {
     "name": "stdout",
     "output_type": "stream",
     "text": [
      "Train Loss: 6.5832 | Val Loss: 6.9695 | LR: 2.57e-04\n",
      "\n",
      "Epoch 43/100\n"
     ]
    },
    {
     "name": "stderr",
     "output_type": "stream",
     "text": [
      "                                                                                     \r"
     ]
    },
    {
     "name": "stdout",
     "output_type": "stream",
     "text": [
      "Train Loss: 6.5679 | Val Loss: 6.9518 | LR: 2.54e-04\n",
      "\n",
      "Epoch 44/100\n"
     ]
    },
    {
     "name": "stderr",
     "output_type": "stream",
     "text": [
      "                                                                                     \r"
     ]
    },
    {
     "name": "stdout",
     "output_type": "stream",
     "text": [
      "Train Loss: 6.5633 | Val Loss: 6.9663 | LR: 2.51e-04\n",
      "\n",
      "Epoch 45/100\n"
     ]
    },
    {
     "name": "stderr",
     "output_type": "stream",
     "text": [
      "                                                                                     \r"
     ]
    },
    {
     "name": "stdout",
     "output_type": "stream",
     "text": [
      "Train Loss: 6.5552 | Val Loss: 6.9836 | LR: 2.48e-04\n",
      "\n",
      "Epoch 46/100\n"
     ]
    },
    {
     "name": "stderr",
     "output_type": "stream",
     "text": [
      "                                                                                     \r"
     ]
    },
    {
     "name": "stdout",
     "output_type": "stream",
     "text": [
      "Train Loss: 6.5473 | Val Loss: 6.9836 | LR: 2.46e-04\n",
      "\n",
      "Epoch 47/100\n"
     ]
    },
    {
     "name": "stderr",
     "output_type": "stream",
     "text": [
      "                                                                                     \r"
     ]
    },
    {
     "name": "stdout",
     "output_type": "stream",
     "text": [
      "Train Loss: 6.5385 | Val Loss: 6.9615 | LR: 2.43e-04\n",
      "\n",
      "Epoch 48/100\n"
     ]
    },
    {
     "name": "stderr",
     "output_type": "stream",
     "text": [
      "                                                                                     \r"
     ]
    },
    {
     "name": "stdout",
     "output_type": "stream",
     "text": [
      "Train Loss: 6.5330 | Val Loss: 6.9556 | LR: 2.41e-04\n",
      "\n",
      "Epoch 49/100\n"
     ]
    },
    {
     "name": "stderr",
     "output_type": "stream",
     "text": [
      "                                                                                     \r"
     ]
    },
    {
     "name": "stdout",
     "output_type": "stream",
     "text": [
      "Train Loss: 6.5273 | Val Loss: 6.9526 | LR: 2.38e-04\n",
      "\n",
      "Epoch 50/100\n"
     ]
    },
    {
     "name": "stderr",
     "output_type": "stream",
     "text": [
      "                                                                                     \r"
     ]
    },
    {
     "name": "stdout",
     "output_type": "stream",
     "text": [
      "Train Loss: 6.5245 | Val Loss: 6.9567 | LR: 2.36e-04\n",
      "\n",
      "Epoch 51/100\n"
     ]
    },
    {
     "name": "stderr",
     "output_type": "stream",
     "text": [
      "                                                                                     \r"
     ]
    },
    {
     "name": "stdout",
     "output_type": "stream",
     "text": [
      "Train Loss: 6.5131 | Val Loss: 6.9637 | LR: 2.33e-04\n",
      "\n",
      "Epoch 52/100\n"
     ]
    },
    {
     "name": "stderr",
     "output_type": "stream",
     "text": [
      "                                                                                     \r"
     ]
    },
    {
     "name": "stdout",
     "output_type": "stream",
     "text": [
      "Train Loss: 6.5043 | Val Loss: 6.9672 | LR: 2.31e-04\n",
      "\n",
      "Epoch 53/100\n"
     ]
    },
    {
     "name": "stderr",
     "output_type": "stream",
     "text": [
      "                                                                                     \r"
     ]
    },
    {
     "name": "stdout",
     "output_type": "stream",
     "text": [
      "Train Loss: 6.4981 | Val Loss: 6.9619 | LR: 2.29e-04\n",
      "\n",
      "Epoch 54/100\n"
     ]
    },
    {
     "name": "stderr",
     "output_type": "stream",
     "text": [
      "                                                                                     \r"
     ]
    },
    {
     "name": "stdout",
     "output_type": "stream",
     "text": [
      "Train Loss: 6.4915 | Val Loss: 6.9533 | LR: 2.27e-04\n",
      "\n",
      "Epoch 55/100\n"
     ]
    },
    {
     "name": "stderr",
     "output_type": "stream",
     "text": [
      "                                                                                     \r"
     ]
    },
    {
     "name": "stdout",
     "output_type": "stream",
     "text": [
      "Train Loss: 6.4864 | Val Loss: 6.9570 | LR: 2.25e-04\n",
      "\n",
      "Epoch 56/100\n"
     ]
    },
    {
     "name": "stderr",
     "output_type": "stream",
     "text": [
      "                                                                                     \r"
     ]
    },
    {
     "name": "stdout",
     "output_type": "stream",
     "text": [
      "Train Loss: 6.4753 | Val Loss: 6.9729 | LR: 2.23e-04\n",
      "\n",
      "Epoch 57/100\n"
     ]
    },
    {
     "name": "stderr",
     "output_type": "stream",
     "text": [
      "                                                                                     \r"
     ]
    },
    {
     "name": "stdout",
     "output_type": "stream",
     "text": [
      "Train Loss: 6.4716 | Val Loss: 6.9434 | LR: 2.21e-04\n",
      "\n",
      "Epoch 58/100\n"
     ]
    },
    {
     "name": "stderr",
     "output_type": "stream",
     "text": [
      "                                                                                     \r"
     ]
    },
    {
     "name": "stdout",
     "output_type": "stream",
     "text": [
      "Train Loss: 6.4622 | Val Loss: 6.9581 | LR: 2.19e-04\n",
      "\n",
      "Epoch 59/100\n"
     ]
    },
    {
     "name": "stderr",
     "output_type": "stream",
     "text": [
      "                                                                                     \r"
     ]
    },
    {
     "name": "stdout",
     "output_type": "stream",
     "text": [
      "Train Loss: 6.4579 | Val Loss: 6.9483 | LR: 2.17e-04\n",
      "\n",
      "Epoch 60/100\n"
     ]
    },
    {
     "name": "stderr",
     "output_type": "stream",
     "text": [
      "                                                                                     \r"
     ]
    },
    {
     "name": "stdout",
     "output_type": "stream",
     "text": [
      "Train Loss: 6.4504 | Val Loss: 6.9572 | LR: 2.15e-04\n",
      "\n",
      "Epoch 61/100\n"
     ]
    },
    {
     "name": "stderr",
     "output_type": "stream",
     "text": [
      "                                                                                     \r"
     ]
    },
    {
     "name": "stdout",
     "output_type": "stream",
     "text": [
      "Train Loss: 6.4405 | Val Loss: 6.9476 | LR: 2.13e-04\n",
      "\n",
      "Epoch 62/100\n"
     ]
    },
    {
     "name": "stderr",
     "output_type": "stream",
     "text": [
      "                                                                                     \r"
     ]
    },
    {
     "name": "stdout",
     "output_type": "stream",
     "text": [
      "Train Loss: 6.4366 | Val Loss: 6.9539 | LR: 2.12e-04\n",
      "\n",
      "Epoch 63/100\n"
     ]
    },
    {
     "name": "stderr",
     "output_type": "stream",
     "text": [
      "                                                                                     \r"
     ]
    },
    {
     "name": "stdout",
     "output_type": "stream",
     "text": [
      "Train Loss: 6.4328 | Val Loss: 6.9460 | LR: 2.10e-04\n",
      "\n",
      "Epoch 64/100\n"
     ]
    },
    {
     "name": "stderr",
     "output_type": "stream",
     "text": [
      "                                                                                     \r"
     ]
    },
    {
     "name": "stdout",
     "output_type": "stream",
     "text": [
      "Train Loss: 6.4259 | Val Loss: 6.9593 | LR: 2.08e-04\n",
      "\n",
      "Epoch 65/100\n"
     ]
    },
    {
     "name": "stderr",
     "output_type": "stream",
     "text": [
      "                                                                                     \r"
     ]
    },
    {
     "name": "stdout",
     "output_type": "stream",
     "text": [
      "Train Loss: 6.4173 | Val Loss: 6.9647 | LR: 2.07e-04\n",
      "\n",
      "Epoch 66/100\n"
     ]
    },
    {
     "name": "stderr",
     "output_type": "stream",
     "text": [
      "                                                                                     \r"
     ]
    },
    {
     "name": "stdout",
     "output_type": "stream",
     "text": [
      "Train Loss: 6.4105 | Val Loss: 6.9417 | LR: 2.05e-04\n",
      "\n",
      "Epoch 67/100\n"
     ]
    },
    {
     "name": "stderr",
     "output_type": "stream",
     "text": [
      "                                                                                     \r"
     ]
    },
    {
     "name": "stdout",
     "output_type": "stream",
     "text": [
      "Train Loss: 6.4024 | Val Loss: 6.9480 | LR: 2.04e-04\n",
      "\n",
      "Epoch 68/100\n"
     ]
    },
    {
     "name": "stderr",
     "output_type": "stream",
     "text": [
      "                                                                                     \r"
     ]
    },
    {
     "name": "stdout",
     "output_type": "stream",
     "text": [
      "Train Loss: 6.3965 | Val Loss: 6.9450 | LR: 2.02e-04\n",
      "\n",
      "Epoch 69/100\n"
     ]
    },
    {
     "name": "stderr",
     "output_type": "stream",
     "text": [
      "                                                                                     \r"
     ]
    },
    {
     "name": "stdout",
     "output_type": "stream",
     "text": [
      "Train Loss: 6.3948 | Val Loss: 6.9404 | LR: 2.01e-04\n",
      "\n",
      "Epoch 70/100\n"
     ]
    },
    {
     "name": "stderr",
     "output_type": "stream",
     "text": [
      "                                                                                     \r"
     ]
    },
    {
     "name": "stdout",
     "output_type": "stream",
     "text": [
      "Train Loss: 6.3826 | Val Loss: 6.9575 | LR: 1.99e-04\n",
      "\n",
      "Epoch 71/100\n"
     ]
    },
    {
     "name": "stderr",
     "output_type": "stream",
     "text": [
      "                                                                                     \r"
     ]
    },
    {
     "name": "stdout",
     "output_type": "stream",
     "text": [
      "Train Loss: 6.3819 | Val Loss: 6.9450 | LR: 1.98e-04\n",
      "\n",
      "Epoch 72/100\n"
     ]
    },
    {
     "name": "stderr",
     "output_type": "stream",
     "text": [
      "                                                                                     \r"
     ]
    },
    {
     "name": "stdout",
     "output_type": "stream",
     "text": [
      "Train Loss: 6.3772 | Val Loss: 6.9488 | LR: 1.96e-04\n",
      "\n",
      "Epoch 73/100\n"
     ]
    },
    {
     "name": "stderr",
     "output_type": "stream",
     "text": [
      "                                                                                     \r"
     ]
    },
    {
     "name": "stdout",
     "output_type": "stream",
     "text": [
      "Train Loss: 6.3684 | Val Loss: 6.9564 | LR: 1.95e-04\n",
      "\n",
      "Epoch 74/100\n"
     ]
    },
    {
     "name": "stderr",
     "output_type": "stream",
     "text": [
      "                                                                                     \r"
     ]
    },
    {
     "name": "stdout",
     "output_type": "stream",
     "text": [
      "Train Loss: 6.3585 | Val Loss: 6.9625 | LR: 1.94e-04\n",
      "\n",
      "Epoch 75/100\n"
     ]
    },
    {
     "name": "stderr",
     "output_type": "stream",
     "text": [
      "                                                                                     \r"
     ]
    },
    {
     "name": "stdout",
     "output_type": "stream",
     "text": [
      "Train Loss: 6.3540 | Val Loss: 6.9496 | LR: 1.92e-04\n",
      "\n",
      "Epoch 76/100\n"
     ]
    },
    {
     "name": "stderr",
     "output_type": "stream",
     "text": [
      "                                                                                     \r"
     ]
    },
    {
     "name": "stdout",
     "output_type": "stream",
     "text": [
      "Train Loss: 6.3526 | Val Loss: 6.9468 | LR: 1.91e-04\n",
      "\n",
      "Epoch 77/100\n"
     ]
    },
    {
     "name": "stderr",
     "output_type": "stream",
     "text": [
      "                                                                                     \r"
     ]
    },
    {
     "name": "stdout",
     "output_type": "stream",
     "text": [
      "Train Loss: 6.3454 | Val Loss: 6.9504 | LR: 1.90e-04\n",
      "\n",
      "Epoch 78/100\n"
     ]
    },
    {
     "name": "stderr",
     "output_type": "stream",
     "text": [
      "                                                                                     \r"
     ]
    },
    {
     "name": "stdout",
     "output_type": "stream",
     "text": [
      "Train Loss: 6.3399 | Val Loss: 6.9699 | LR: 1.89e-04\n",
      "\n",
      "Epoch 79/100\n"
     ]
    },
    {
     "name": "stderr",
     "output_type": "stream",
     "text": [
      "                                                                                     \r"
     ]
    },
    {
     "name": "stdout",
     "output_type": "stream",
     "text": [
      "Train Loss: 6.3342 | Val Loss: 6.9377 | LR: 1.88e-04\n",
      "\n",
      "Epoch 80/100\n"
     ]
    },
    {
     "name": "stderr",
     "output_type": "stream",
     "text": [
      "                                                                                     \r"
     ]
    },
    {
     "name": "stdout",
     "output_type": "stream",
     "text": [
      "Train Loss: 6.3273 | Val Loss: 6.9412 | LR: 1.86e-04\n",
      "\n",
      "Epoch 81/100\n"
     ]
    },
    {
     "name": "stderr",
     "output_type": "stream",
     "text": [
      "                                                                                     \r"
     ]
    },
    {
     "name": "stdout",
     "output_type": "stream",
     "text": [
      "Train Loss: 6.3216 | Val Loss: 6.9423 | LR: 1.85e-04\n",
      "\n",
      "Epoch 82/100\n"
     ]
    },
    {
     "name": "stderr",
     "output_type": "stream",
     "text": [
      "                                                                                     \r"
     ]
    },
    {
     "name": "stdout",
     "output_type": "stream",
     "text": [
      "Saving new best model with val loss: 6.9595\n",
      "Train Loss: 6.3150 | Val Loss: 6.9595 | LR: 1.84e-04\n",
      "\n",
      "Epoch 83/100\n"
     ]
    },
    {
     "name": "stderr",
     "output_type": "stream",
     "text": [
      "                                                                                     \r"
     ]
    },
    {
     "name": "stdout",
     "output_type": "stream",
     "text": [
      "Saving new best model with val loss: 6.9491\n",
      "Train Loss: 6.3125 | Val Loss: 6.9491 | LR: 1.83e-04\n",
      "\n",
      "Epoch 84/100\n"
     ]
    },
    {
     "name": "stderr",
     "output_type": "stream",
     "text": [
      "                                                                                     \r"
     ]
    },
    {
     "name": "stdout",
     "output_type": "stream",
     "text": [
      "Train Loss: 6.3083 | Val Loss: 6.9534 | LR: 1.82e-04\n",
      "\n",
      "Epoch 85/100\n"
     ]
    },
    {
     "name": "stderr",
     "output_type": "stream",
     "text": [
      "                                                                                     \r"
     ]
    },
    {
     "name": "stdout",
     "output_type": "stream",
     "text": [
      "Saving new best model with val loss: 6.9458\n",
      "Train Loss: 6.3061 | Val Loss: 6.9458 | LR: 1.81e-04\n",
      "\n",
      "Epoch 86/100\n"
     ]
    },
    {
     "name": "stderr",
     "output_type": "stream",
     "text": [
      "                                                                                     \r"
     ]
    },
    {
     "name": "stdout",
     "output_type": "stream",
     "text": [
      "Train Loss: 6.2986 | Val Loss: 6.9495 | LR: 1.80e-04\n",
      "\n",
      "Epoch 87/100\n"
     ]
    },
    {
     "name": "stderr",
     "output_type": "stream",
     "text": [
      "                                                                                     \r"
     ]
    },
    {
     "name": "stdout",
     "output_type": "stream",
     "text": [
      "Train Loss: 6.2900 | Val Loss: 6.9557 | LR: 1.79e-04\n",
      "\n",
      "Epoch 88/100\n"
     ]
    },
    {
     "name": "stderr",
     "output_type": "stream",
     "text": [
      "                                                                                     \r"
     ]
    },
    {
     "name": "stdout",
     "output_type": "stream",
     "text": [
      "Saving new best model with val loss: 6.9444\n",
      "Train Loss: 6.2882 | Val Loss: 6.9444 | LR: 1.78e-04\n",
      "\n",
      "Epoch 89/100\n"
     ]
    },
    {
     "name": "stderr",
     "output_type": "stream",
     "text": [
      "                                                                                     \r"
     ]
    },
    {
     "name": "stdout",
     "output_type": "stream",
     "text": [
      "Train Loss: 6.2783 | Val Loss: 6.9520 | LR: 1.77e-04\n",
      "\n",
      "Epoch 90/100\n"
     ]
    },
    {
     "name": "stderr",
     "output_type": "stream",
     "text": [
      "                                                                                     \r"
     ]
    },
    {
     "name": "stdout",
     "output_type": "stream",
     "text": [
      "Train Loss: 6.2774 | Val Loss: 6.9474 | LR: 1.76e-04\n",
      "\n",
      "Epoch 91/100\n"
     ]
    },
    {
     "name": "stderr",
     "output_type": "stream",
     "text": [
      "                                                                                     \r"
     ]
    },
    {
     "name": "stdout",
     "output_type": "stream",
     "text": [
      "Train Loss: 6.2678 | Val Loss: 6.9509 | LR: 1.75e-04\n",
      "\n",
      "Epoch 92/100\n"
     ]
    },
    {
     "name": "stderr",
     "output_type": "stream",
     "text": [
      "                                                                                     \r"
     ]
    },
    {
     "name": "stdout",
     "output_type": "stream",
     "text": [
      "Train Loss: 6.2647 | Val Loss: 6.9553 | LR: 1.74e-04\n",
      "\n",
      "Epoch 93/100\n"
     ]
    },
    {
     "name": "stderr",
     "output_type": "stream",
     "text": [
      "                                                                                     \r"
     ]
    },
    {
     "name": "stdout",
     "output_type": "stream",
     "text": [
      "Train Loss: 6.2606 | Val Loss: 6.9478 | LR: 1.73e-04\n",
      "\n",
      "Epoch 94/100\n"
     ]
    },
    {
     "name": "stderr",
     "output_type": "stream",
     "text": [
      "                                                                                     \r"
     ]
    },
    {
     "name": "stdout",
     "output_type": "stream",
     "text": [
      "Train Loss: 6.2587 | Val Loss: 6.9612 | LR: 1.72e-04\n",
      "\n",
      "Epoch 95/100\n"
     ]
    },
    {
     "name": "stderr",
     "output_type": "stream",
     "text": [
      "                                                                                     \r"
     ]
    },
    {
     "name": "stdout",
     "output_type": "stream",
     "text": [
      "Train Loss: 6.2581 | Val Loss: 6.9634 | LR: 1.71e-04\n",
      "\n",
      "Epoch 96/100\n"
     ]
    },
    {
     "name": "stderr",
     "output_type": "stream",
     "text": [
      "                                                                                     \r"
     ]
    },
    {
     "name": "stdout",
     "output_type": "stream",
     "text": [
      "Train Loss: 6.2545 | Val Loss: 6.9575 | LR: 1.70e-04\n",
      "\n",
      "Epoch 97/100\n"
     ]
    },
    {
     "name": "stderr",
     "output_type": "stream",
     "text": [
      "                                                                                     \r"
     ]
    },
    {
     "name": "stdout",
     "output_type": "stream",
     "text": [
      "Train Loss: 6.2509 | Val Loss: 6.9542 | LR: 1.69e-04\n",
      "\n",
      "Epoch 98/100\n"
     ]
    },
    {
     "name": "stderr",
     "output_type": "stream",
     "text": [
      "                                                                                     \r"
     ]
    },
    {
     "name": "stdout",
     "output_type": "stream",
     "text": [
      "Train Loss: 6.2486 | Val Loss: 6.9626 | LR: 1.68e-04\n",
      "\n",
      "Epoch 99/100\n"
     ]
    },
    {
     "name": "stderr",
     "output_type": "stream",
     "text": [
      "                                                                                     \r"
     ]
    },
    {
     "name": "stdout",
     "output_type": "stream",
     "text": [
      "Train Loss: 6.2484 | Val Loss: 6.9785 | LR: 1.68e-04\n",
      "\n",
      "Epoch 100/100\n"
     ]
    },
    {
     "name": "stderr",
     "output_type": "stream",
     "text": [
      "                                                                                     \r"
     ]
    },
    {
     "name": "stdout",
     "output_type": "stream",
     "text": [
      "Train Loss: 6.2495 | Val Loss: 6.9588 | LR: 1.67e-04\n"
     ]
    }
   ],
   "execution_count": 18
  },
  {
   "metadata": {
    "ExecuteTime": {
     "end_time": "2025-03-17T00:39:13.869256Z",
     "start_time": "2025-03-17T00:39:13.687992Z"
    }
   },
   "cell_type": "code",
   "source": [
    "plt.figure(figsize=(12, 6))\n",
    "plt.plot(train_losses, label='Training Loss')\n",
    "plt.plot(val_losses, label='Validation Loss')\n",
    "plt.xlabel('Epoch')\n",
    "plt.ylabel('Loss')\n",
    "plt.title(f\"Training Progress\")\n",
    "plt.legend()\n",
    "plt.grid(True)\n",
    "plt.show()"
   ],
   "id": "dae5f2c464d34d23",
   "outputs": [
    {
     "data": {
      "text/plain": [
       "<Figure size 1200x600 with 1 Axes>"
      ],
      "image/png": "[encoded data removed]"
     },
     "metadata": {},
     "output_type": "display_data"
    }
   ],
   "execution_count": 19
  },
  {
   "metadata": {
    "ExecuteTime": {
     "end_time": "2025-03-17T00:51:29.202587Z",
     "start_time": "2025-03-17T00:51:28.682035Z"
    }
   },
   "cell_type": "code",
   "source": [
    "spacy.prefer_gpu()\n",
    "nlp = spacy.load(\"en_core_web_sm\", disable=[\"parser\", \"ner\", \"lemmatizer\"])\n",
    "\n",
    "def clean_text(text):\n",
    "    text = unescape(str(text))\n",
    "    text = re.sub(r'<\\/?[a-zA-Z_]+\\b[^>]*>', '', text, flags=re.IGNORECASE)\n",
    "    text = re.sub(r'&\\w+;', '', text)\n",
    "    text = re.sub(r'[<>]', '', text)\n",
    "\n",
    "    text = text.replace('\"', \"'\")\n",
    "    allowed_punct = r\"!?.,:;'\"\n",
    "    text = re.sub(fr\"[^\\w\\s{allowed_punct}]\", '', text)\n",
    "    text = re.sub(r\"\\s+([!?,.])\\s+\", r\" \\1 \", text)\n",
    "    text = re.sub(r\"\\s{2,}\", \" \", text).strip()\n",
    "    return text\n",
    "\n",
    "def normalize_text(text, is_title=False):\n",
    "    if is_title:\n",
    "        text = re.sub(r'\\b([A-Z]{2,})\\b', r'<KEEP_CAPS>\\1</KEEP_CAPS>', text)\n",
    "        text = titlecase(text.lower())\n",
    "        text = re.sub(r'<KEEP_CAPS>(.*?)</KEEP_CAPS>', lambda m: m.group(1).upper(), text)\n",
    "        return text\n",
    "    else:\n",
    "        return text.lower()\n",
    "\n",
    "def spacy_tokenize(text, nlp):\n",
    "    doc = nlp(text)\n",
    "    punct_set = {\".\", \",\", \"!\", \"?\", \":\", \";\", \"'\"}\n",
    "    tokens = []\n",
    "    for token in doc:\n",
    "        tok_text = token.text.strip()\n",
    "        if not tok_text:\n",
    "            continue\n",
    "        if token.is_stop:\n",
    "            continue\n",
    "        if '_' in tok_text:\n",
    "            continue\n",
    "        if tok_text in punct_set:\n",
    "            tokens.append(tok_text)\n",
    "            continue\n",
    "        if re.match(r'^[a-z0-9]+$', tok_text) and len(tok_text) >= 2:\n",
    "            tokens.append(tok_text)\n",
    "    return tokens\n",
    "\n",
    "def text_to_sequence(tokens, vocab):\n",
    "    return [vocab.get('<start>', 1)] \\\n",
    "        + [vocab.get(tok, vocab.get('<unk>', 1)) for tok in tokens] \\\n",
    "        + [vocab.get('<end>', 1)]\n",
    "\n",
    "def process_inference_desc(text, vocab, nlp):\n",
    "    # 1) clean\n",
    "    text = clean_text(text)\n",
    "    # 2) normalize (desc => is_title=False)\n",
    "    text = normalize_text(text, is_title=False)\n",
    "    # 3) spacy tokenize\n",
    "    tokens = spacy_tokenize(text, nlp)\n",
    "    # 4) map to sequence with <start> / <end>\n",
    "    tokens = [tok if tok in vocab else '<unk>' for tok in tokens]\n",
    "    seq = text_to_sequence(tokens, vocab)\n",
    "    if len(seq) > 20:\n",
    "        seq = seq[:19] + [vocab['<end>']] \n",
    "    return seq"
   ],
   "id": "5cea3d0d4ba4d774",
   "outputs": [],
   "execution_count": 32
  },
  {
   "metadata": {
    "ExecuteTime": {
     "end_time": "2025-03-17T00:51:30.369193Z",
     "start_time": "2025-03-17T00:51:30.362759Z"
    }
   },
   "cell_type": "code",
   "source": [
    "# def greedy_decode(model, src, src_key_padding_mask, max_len=20):\n",
    "#     \"\"\"Enhanced greedy decoding with correct special token handling\"\"\"\n",
    "#     model.eval()\n",
    "#     device = src.device\n",
    "#     batch_size = src.size(0)\n",
    "#     eos_idx = model.config.eos_idx\n",
    "#     sos_idx = model.config.sos_idx\n",
    "# \n",
    "#     # make sure src_key_padding_mask is boolean\n",
    "#     src_key_padding_mask = src_key_padding_mask.to(torch.bool)\n",
    "# \n",
    "#     # src encoding\n",
    "#     memory = model.encode(src, src_key_padding_mask=src_key_padding_mask)\n",
    "# \n",
    "#     # initialize target with <start>\n",
    "#     tgt = torch.full((batch_size, 1), sos_idx, dtype=torch.long, device=device)\n",
    "# \n",
    "#     # initialize unfinished sequences\n",
    "#     unfinished = torch.ones(batch_size, dtype=torch.bool, device=device)\n",
    "#     final_outputs = [[] for _ in range(batch_size)]\n",
    "# \n",
    "#     for step in range(max_len):\n",
    "#         tgt_mask = model.generate_tgt_mask(tgt.size(1)).to(device)\n",
    "# \n",
    "#         # decode step\n",
    "#         logits = model.decode(\n",
    "#             tgt=tgt,\n",
    "#             memory=memory,\n",
    "#             tgt_mask=tgt_mask,\n",
    "#             memory_key_padding_mask=src_key_padding_mask\n",
    "#         )  # [B, T, V]\n",
    "# \n",
    "#         # get next token\n",
    "#         next_tokens = logits[:, -1, :].argmax(-1)  # [B]\n",
    "# \n",
    "#         # update target sequence\n",
    "#         for i in range(batch_size):\n",
    "#             if unfinished[i]:\n",
    "#                 final_outputs[i].append(next_tokens[i].item())\n",
    "# \n",
    "#         eos_hit = (next_tokens == eos_idx)\n",
    "#         unfinished = unfinished & ~eos_hit\n",
    "# \n",
    "#         # early exit if all sequences have ended\n",
    "#         if not unfinished.any():\n",
    "#             break\n",
    "# \n",
    "#         tgt = torch.cat([\n",
    "#             tgt[unfinished],\n",
    "#             next_tokens[unfinished].unsqueeze(1)\n",
    "#         ], dim=1)\n",
    "# \n",
    "#     # remover token after <end>\n",
    "#     results = []\n",
    "#     for seq in final_outputs:\n",
    "#         if eos_idx in seq:\n",
    "#             eos_pos = seq.index(eos_idx)\n",
    "#             seq = seq[:eos_pos]\n",
    "#         results.append(seq)\n",
    "# \n",
    "#     return results"
   ],
   "id": "46f874e94a8fe79c",
   "outputs": [],
   "execution_count": 33
  },
  {
   "metadata": {
    "ExecuteTime": {
     "end_time": "2025-03-17T00:51:30.862402Z",
     "start_time": "2025-03-17T00:51:30.853733Z"
    }
   },
   "cell_type": "code",
   "source": [
    "def beam_decode(\n",
    "        model,\n",
    "        src: torch.Tensor,\n",
    "        src_key_padding_mask: torch.Tensor,\n",
    "        max_len: int = 20,\n",
    "        beam_size: int = 5,\n",
    "        length_penalty: float = 0.6\n",
    ") -> list:\n",
    "    \"\"\"\n",
    "    Beam search decoding with length penalty.\n",
    "    \n",
    "    Args:\n",
    "        model: Transformer model.\n",
    "        src: Source sequence tensor of shape [1, src_len] (batch_size=1).\n",
    "        src_key_padding_mask: Padding mask tensor for the source [1, src_len].\n",
    "        beam_size: Beam width.\n",
    "        length_penalty: Length penalty coefficient (0.0 ~ 1.0, larger values favor longer sequences).\n",
    "    \n",
    "    Returns:\n",
    "        List[List[int]]: A list of decoded sequences (list length equals beam_size).\n",
    "    \"\"\"\n",
    "    model.eval()\n",
    "    device = src.device\n",
    "    eos_idx = model.config.eos_idx\n",
    "    sos_idx = model.config.sos_idx\n",
    "\n",
    "    # Encode the source sequence\n",
    "    memory = model.encode(src, src_key_padding_mask=src_key_padding_mask)  # [1, S, D]\n",
    "\n",
    "    # Initialize the beam with a dictionary representing the initial candidate\n",
    "    beams = [\n",
    "        {\n",
    "            'tokens': [sos_idx],\n",
    "            'score': 0.0,\n",
    "            'finished': False\n",
    "        }\n",
    "    ]\n",
    "\n",
    "    for step in range(max_len):\n",
    "        candidates = []\n",
    "        for beam in beams:\n",
    "            if beam['finished']:\n",
    "                candidates.append(beam)\n",
    "                continue\n",
    "\n",
    "            # decoder input with the current token sequence [1, current_len]\n",
    "            tgt = torch.tensor([beam['tokens']], dtype=torch.long, device=device)\n",
    "            tgt_mask = model.generate_tgt_mask(tgt.size(1)).to(device)\n",
    "\n",
    "            # Decode to obtain logits\n",
    "            logits = model.decode(\n",
    "                tgt=tgt,\n",
    "                memory=memory,\n",
    "                tgt_mask=tgt_mask,\n",
    "                memory_key_padding_mask=src_key_padding_mask\n",
    "            )  # [1, T, V]\n",
    "\n",
    "            # Get logits from the last time step and compute log probabilities\n",
    "            log_probs = torch.log_softmax(logits[0, -1], dim=-1)  # [V]\n",
    "            topk_probs, topk_indices = torch.topk(log_probs, beam_size)  # [beam_size]\n",
    "\n",
    "            # Generate new candidate beams\n",
    "            for i in range(beam_size):\n",
    "                token = topk_indices[i].item()\n",
    "                score = beam['score'] + topk_probs[i].item()\n",
    "                new_beam = {\n",
    "                    'tokens': beam['tokens'] + [token],\n",
    "                    'score': score,\n",
    "                    'finished': (token == eos_idx)\n",
    "                }\n",
    "                candidates.append(new_beam)\n",
    "\n",
    "        # Sort candidates by score with length penalty and keep the top beam_size candidates\n",
    "        candidates.sort(key=lambda x: x['score'] / ((1 + len(x['tokens'])) ** length_penalty), reverse=True)\n",
    "        beams = candidates[:beam_size]\n",
    "\n",
    "        # If all beams have finished decoding, exit early.\n",
    "        if all(beam['finished'] for beam in beams):\n",
    "            break\n",
    "\n",
    "    # Post-processing: remove the <start> token and truncate tokens after <end>\n",
    "    results = []\n",
    "    for beam in beams:\n",
    "        tokens = beam['tokens'][1:]  \n",
    "        if eos_idx in tokens:\n",
    "            eos_pos = tokens.index(eos_idx)\n",
    "            tokens = tokens[:eos_pos]\n",
    "        results.append(tokens)\n",
    "\n",
    "    return results"
   ],
   "id": "d9eb3d6a4604fad7",
   "outputs": [],
   "execution_count": 34
  },
  {
   "metadata": {
    "ExecuteTime": {
     "end_time": "2025-03-17T00:52:40.389873Z",
     "start_time": "2025-03-17T00:52:40.382758Z"
    }
   },
   "cell_type": "code",
   "source": [
    "def predict(model, raw_text, vocab, reverse_vocab, nlp, device='cuda',\n",
    "            max_input_len=200, max_target_len=20, beam_size=5):\n",
    "    # process inference description\n",
    "    content_tokens = process_inference_desc(raw_text, vocab, nlp)\n",
    "\n",
    "    # convert to tensor\n",
    "    input_seq = torch.tensor(content_tokens, dtype=torch.long).unsqueeze(0).to(device)  # [1, S]\n",
    "\n",
    "    # padding\n",
    "    if input_seq.size(1) < max_input_len:\n",
    "        pad = torch.full((1, max_input_len - input_seq.size(1)), vocab['<pad>'],\n",
    "                         dtype=torch.long, device=device)\n",
    "        input_seq = torch.cat([input_seq, pad], dim=1)\n",
    "    else:\n",
    "        input_seq = input_seq[:, :max_input_len]\n",
    "        input_seq[0, -1] = vocab['<end>']  # make sure the last token is <end>\n",
    "\n",
    "    # generate src_key_padding_mask\n",
    "    src_pad_mask = (input_seq == vocab['<pad>'])\n",
    "\n",
    "    # generate output sequence\n",
    "    with torch.no_grad():\n",
    "        output_seqs = beam_decode(\n",
    "            model=model,\n",
    "            src=input_seq,\n",
    "            src_key_padding_mask=src_pad_mask,\n",
    "            max_len=max_target_len,\n",
    "            beam_size=beam_size\n",
    "        )\n",
    "\n",
    "    # convert index to tokens\n",
    "    tokens = []\n",
    "    for idx in output_seqs[0]:  # output_seqs[0] \n",
    "        token = reverse_vocab.get(idx, '<unk>')\n",
    "        if token == '<end>':\n",
    "            break\n",
    "        tokens.append(token)\n",
    "\n",
    "    text = ' '.join(tokens)\n",
    "    text = re.sub(r'\\s+([.,!?;:])', r'\\1', text)  # remove space before punctuation\n",
    "    text = re.sub(r'([.,!?;:])\\s+', r'\\1 ', text)  # space after punctuation\n",
    "    return text.capitalize()"
   ],
   "id": "adb4a001252470b3",
   "outputs": [],
   "execution_count": 37
  },
  {
   "metadata": {
    "ExecuteTime": {
     "end_time": "2025-03-17T00:52:43.171252Z",
     "start_time": "2025-03-17T00:52:42.485869Z"
    }
   },
   "cell_type": "code",
   "source": [
    "test_text_1 = \"tokyo ap a lunar orbiter that japan had planned to launch this year could face further delays, possibly until next year or later, because of a funding shortfall and problems developing the probe's informationgathering capabilities, japan's space agency said wednesday. the japan aerospace exploration agency, or jaxa, released a report to a governmentrun commission explaining expected delays to the launch of the 135 million lunara probe...\"\n",
    "test_text_2 = \"advanced micro devices inc.'s amd inc.'s 90nanometer notebook processors are on their way to customers, according to a research note published by goldman sachs co. thursday.advertisementintroducing ibm eserver p5 systems.powered by ibms most advanced 64bit microprocessor power5tm, p5 systems can run unix and linux simultaneously. learn more about eserver p5 systems.\"\n",
    "\n",
    "for i, test_text in enumerate([test_text_1, test_text_2], start=1):\n",
    "    pred_title = predict(model, test_text, vocab, reverse_vocab, nlp, device=device)\n",
    "\n",
    "    print(f\"===== Input {i} =====\")\n",
    "    print(\"Original text (desc):\", test_text)\n",
    "    print(\"Predicted Title:\", pred_title)"
   ],
   "id": "d5abea685b34d820",
   "outputs": [
    {
     "name": "stdout",
     "output_type": "stream",
     "text": [
      "===== Input 1 =====\n",
      "Original text (desc): tokyo ap a lunar orbiter that japan had planned to launch this year could face further delays, possibly until next year or later, because of a funding shortfall and problems developing the probe's informationgathering capabilities, japan's space agency said wednesday. the japan aerospace exploration agency, or jaxa, released a report to a governmentrun commission explaining expected delays to the launch of the 135 million lunara probe...\n",
      "Predicted Title: <unk>, <unk>\n",
      "===== Input 2 =====\n",
      "Original text (desc): advanced micro devices inc.'s amd inc.'s 90nanometer notebook processors are on their way to customers, according to a research note published by goldman sachs co. thursday.advertisementintroducing ibm eserver p5 systems.powered by ibms most advanced 64bit microprocessor power5tm, p5 systems can run unix and linux simultaneously. learn more about eserver p5 systems.\n",
      "Predicted Title: <unk>, <unk>\n"
     ]
    }
   ],
   "execution_count": 38
  },
  {
   "metadata": {},
   "cell_type": "code",
   "outputs": [],
   "execution_count": null,
   "source": "",
   "id": "31bafda2ae04257"
  }
 ],
 "metadata": {
  "kernelspec": {
   "display_name": "Python 3",
   "language": "python",
   "name": "python3"
  },
  "language_info": {
   "codemirror_mode": {
    "name": "ipython",
    "version": 2
   },
   "file_extension": ".py",
   "mimetype": "text/x-python",
   "name": "python",
   "nbconvert_exporter": "python",
   "pygments_lexer": "ipython2",
   "version": "2.7.6"
  }
 },
 "nbformat": 4,
 "nbformat_minor": 5
}
