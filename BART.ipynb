{
 "cells": [
  {
   "cell_type": "code",
   "id": "initial_id",
   "metadata": {
    "collapsed": true,
    "ExecuteTime": {
     "end_time": "2025-03-15T19:07:15.867662Z",
     "start_time": "2025-03-15T19:07:07.699927Z"
    }
   },
   "source": [
    "import pandas as pd\n",
    "from datasets import Dataset\n",
    "from transformers import BartTokenizer, BartForConditionalGeneration, Seq2SeqTrainingArguments, Seq2SeqTrainer\n",
    "import matplotlib.pyplot as plt"
   ],
   "outputs": [],
   "execution_count": 1
  },
  {
   "metadata": {
    "ExecuteTime": {
     "end_time": "2025-03-15T19:07:16.760104Z",
     "start_time": "2025-03-15T19:07:15.881671Z"
    }
   },
   "cell_type": "code",
   "source": [
    "# load processed data\n",
    "df = pd.read_parquet(\"processed_data.parquet\")\n",
    "\n",
    "def preprocess_function(examples):\n",
    "    # BART does not require special token for input\n",
    "    inputs = [desc for desc in examples[\"norm_desc\"]]\n",
    "    targets = examples[\"norm_title\"]\n",
    "    return {\"input_text\": inputs, \"target_text\": targets}\n",
    "\n",
    "# convert to Hugging Face Dataset\n",
    "raw_dataset = Dataset.from_pandas(df[[\"norm_desc\", \"norm_title\"]])\n",
    "dataset = raw_dataset.map(preprocess_function, batched=True)\n",
    "\n",
    "# split dataset\n",
    "split_dataset = dataset.train_test_split(test_size=0.2, seed=42)\n",
    "train_dataset = split_dataset[\"train\"]\n",
    "eval_dataset = split_dataset[\"test\"]"
   ],
   "id": "1a03c80e75e6835b",
   "outputs": [
    {
     "data": {
      "text/plain": [
       "Map:   0%|          | 0/112390 [00:00<?, ? examples/s]"
      ],
      "application/vnd.jupyter.widget-view+json": {
       "version_major": 2,
       "version_minor": 0,
       "model_id": "b9462d883f9c42beb1f564d0c89e1b18"
      }
     },
     "metadata": {},
     "output_type": "display_data"
    }
   ],
   "execution_count": 2
  },
  {
   "metadata": {
    "ExecuteTime": {
     "end_time": "2025-03-15T19:07:17.791147Z",
     "start_time": "2025-03-15T19:07:16.842909Z"
    }
   },
   "cell_type": "code",
   "source": [
    "# load BART model and tokenizer\n",
    "model_name = \"facebook/bart-base\"\n",
    "tokenizer = BartTokenizer.from_pretrained(model_name)\n",
    "model = BartForConditionalGeneration.from_pretrained(model_name)"
   ],
   "id": "2a2fa4eb3c020f12",
   "outputs": [],
   "execution_count": 3
  },
  {
   "metadata": {
    "ExecuteTime": {
     "end_time": "2025-03-15T19:08:25.109989Z",
     "start_time": "2025-03-15T19:07:17.816257Z"
    }
   },
   "cell_type": "code",
   "source": [
    "# define tokenize function\n",
    "def tokenize_function(examples):\n",
    "    model_inputs = tokenizer(\n",
    "        examples[\"input_text\"],\n",
    "        max_length=256,\n",
    "        truncation=True,\n",
    "        padding=\"max_length\",\n",
    "        return_tensors=\"pt\"\n",
    "    )\n",
    "\n",
    "    with tokenizer.as_target_tokenizer():\n",
    "        labels = tokenizer(\n",
    "            examples[\"target_text\"],\n",
    "            max_length=32,\n",
    "            truncation=True,\n",
    "            padding=\"max_length\",\n",
    "            return_tensors=\"pt\"\n",
    "        )\n",
    "\n",
    "    model_inputs[\"labels\"] = labels[\"input_ids\"]\n",
    "    return model_inputs\n",
    "\n",
    "# tokenize dataset\n",
    "train_dataset = train_dataset.map(tokenize_function, batched=True)\n",
    "eval_dataset = eval_dataset.map(tokenize_function, batched=True)"
   ],
   "id": "72975c32533e34f2",
   "outputs": [
    {
     "data": {
      "text/plain": [
       "Map:   0%|          | 0/89912 [00:00<?, ? examples/s]"
      ],
      "application/vnd.jupyter.widget-view+json": {
       "version_major": 2,
       "version_minor": 0,
       "model_id": "e57d3669623c4c009fec3aaf0a6eb0ca"
      }
     },
     "metadata": {},
     "output_type": "display_data"
    },
    {
     "name": "stderr",
     "output_type": "stream",
     "text": [
      "C:\\Users\\jinch\\anaconda3\\envs\\myenv\\Lib\\site-packages\\transformers\\tokenization_utils_base.py:3970: UserWarning: `as_target_tokenizer` is deprecated and will be removed in v5 of Transformers. You can tokenize your labels by using the argument `text_target` of the regular `__call__` method (either in the same call as your input texts if you use the same keyword arguments, or in a separate call.\n",
      "  warnings.warn(\n"
     ]
    },
    {
     "data": {
      "text/plain": [
       "Map:   0%|          | 0/22478 [00:00<?, ? examples/s]"
      ],
      "application/vnd.jupyter.widget-view+json": {
       "version_major": 2,
       "version_minor": 0,
       "model_id": "5342b5ec95b94822a196ca3a13b794ac"
      }
     },
     "metadata": {},
     "output_type": "display_data"
    }
   ],
   "execution_count": 4
  },
  {
   "metadata": {
    "ExecuteTime": {
     "end_time": "2025-03-15T19:59:21.497204Z",
     "start_time": "2025-03-15T19:08:25.117907Z"
    }
   },
   "cell_type": "code",
   "source": [
    "# hyperparameters\n",
    "training_args = Seq2SeqTrainingArguments(\n",
    "    output_dir=\"./bart-news-title-generation\",\n",
    "    num_train_epochs=10,  \n",
    "    per_device_train_batch_size=128,  \n",
    "    per_device_eval_batch_size=128,\n",
    "    learning_rate=3e-5,\n",
    "    eval_strategy=\"epoch\",\n",
    "    save_strategy=\"epoch\",\n",
    "    logging_dir=\"./logs\",\n",
    "    predict_with_generate=True,  # 启用生成评估\n",
    "    generation_max_length=32,    # 生成标题最大长度\n",
    "    fp16=True,                   # 混合精度训练\n",
    ")\n",
    "\n",
    "# initialize trainer\n",
    "trainer = Seq2SeqTrainer(\n",
    "    model=model,\n",
    "    args=training_args,\n",
    "    train_dataset=train_dataset,\n",
    "    eval_dataset=eval_dataset,\n",
    "    tokenizer=tokenizer,\n",
    ")\n",
    "\n",
    "trainer.train()"
   ],
   "id": "2b7dd931b5532300",
   "outputs": [
    {
     "name": "stderr",
     "output_type": "stream",
     "text": [
      "C:\\Users\\jinch\\AppData\\Local\\Temp\\ipykernel_24788\\1109593025.py:17: FutureWarning: `tokenizer` is deprecated and will be removed in version 5.0.0 for `Seq2SeqTrainer.__init__`. Use `processing_class` instead.\n",
      "  trainer = Seq2SeqTrainer(\n",
      "C:\\Users\\jinch\\anaconda3\\envs\\myenv\\Lib\\site-packages\\transformers\\models\\bart\\modeling_bart.py:496: UserWarning: 1Torch was not compiled with flash attention. (Triggered internally at C:\\cb\\pytorch_1000000000000\\work\\aten\\src\\ATen\\native\\transformers\\cuda\\sdp_utils.cpp:555.)\n",
      "  attn_output = torch.nn.functional.scaled_dot_product_attention(\n"
     ]
    },
    {
     "data": {
      "text/plain": [
       "<IPython.core.display.HTML object>"
      ],
      "text/html": [
       "\n",
       "    <div>\n",
       "      \n",
       "      <progress value='7030' max='7030' style='width:300px; height:20px; vertical-align: middle;'></progress>\n",
       "      [7030/7030 50:54, Epoch 10/10]\n",
       "    </div>\n",
       "    <table border=\"1\" class=\"dataframe\">\n",
       "  <thead>\n",
       " <tr style=\"text-align: left;\">\n",
       "      <th>Epoch</th>\n",
       "      <th>Training Loss</th>\n",
       "      <th>Validation Loss</th>\n",
       "    </tr>\n",
       "  </thead>\n",
       "  <tbody>\n",
       "    <tr>\n",
       "      <td>1</td>\n",
       "      <td>1.846200</td>\n",
       "      <td>0.928348</td>\n",
       "    </tr>\n",
       "    <tr>\n",
       "      <td>2</td>\n",
       "      <td>1.025700</td>\n",
       "      <td>0.885303</td>\n",
       "    </tr>\n",
       "    <tr>\n",
       "      <td>3</td>\n",
       "      <td>0.913700</td>\n",
       "      <td>0.862758</td>\n",
       "    </tr>\n",
       "    <tr>\n",
       "      <td>4</td>\n",
       "      <td>0.877100</td>\n",
       "      <td>0.849653</td>\n",
       "    </tr>\n",
       "    <tr>\n",
       "      <td>5</td>\n",
       "      <td>0.827900</td>\n",
       "      <td>0.841192</td>\n",
       "    </tr>\n",
       "    <tr>\n",
       "      <td>6</td>\n",
       "      <td>0.801700</td>\n",
       "      <td>0.835964</td>\n",
       "    </tr>\n",
       "    <tr>\n",
       "      <td>7</td>\n",
       "      <td>0.789400</td>\n",
       "      <td>0.829776</td>\n",
       "    </tr>\n",
       "    <tr>\n",
       "      <td>8</td>\n",
       "      <td>0.763500</td>\n",
       "      <td>0.828194</td>\n",
       "    </tr>\n",
       "    <tr>\n",
       "      <td>9</td>\n",
       "      <td>0.751000</td>\n",
       "      <td>0.827442</td>\n",
       "    </tr>\n",
       "    <tr>\n",
       "      <td>10</td>\n",
       "      <td>0.741800</td>\n",
       "      <td>0.828300</td>\n",
       "    </tr>\n",
       "  </tbody>\n",
       "</table><p>"
      ]
     },
     "metadata": {},
     "output_type": "display_data"
    },
    {
     "name": "stderr",
     "output_type": "stream",
     "text": [
      "C:\\Users\\jinch\\anaconda3\\envs\\myenv\\Lib\\site-packages\\transformers\\modeling_utils.py:2810: UserWarning: Moving the following attributes in the config to the generation config: {'early_stopping': True, 'num_beams': 4, 'no_repeat_ngram_size': 3, 'forced_bos_token_id': 0}. You are seeing this warning because you've set generation parameters in the model config, as opposed to in the generation config.\n",
      "  warnings.warn(\n"
     ]
    },
    {
     "data": {
      "text/plain": [
       "TrainOutput(global_step=7030, training_loss=0.9047761284948922, metrics={'train_runtime': 3055.6035, 'train_samples_per_second': 294.253, 'train_steps_per_second': 2.301, 'total_flos': 1.370565610831872e+17, 'train_loss': 0.9047761284948922, 'epoch': 10.0})"
      ]
     },
     "execution_count": 5,
     "metadata": {},
     "output_type": "execute_result"
    }
   ],
   "execution_count": 5
  },
  {
   "metadata": {
    "ExecuteTime": {
     "end_time": "2025-03-15T19:59:21.774150Z",
     "start_time": "2025-03-15T19:59:21.579343Z"
    }
   },
   "cell_type": "code",
   "source": [
    "# plot training and validation loss\n",
    "log_history = trainer.state.log_history\n",
    "train_losses = [entry[\"loss\"] for entry in log_history if \"loss\" in entry]\n",
    "eval_losses = [entry[\"eval_loss\"] for entry in log_history if \"eval_loss\" in entry]\n",
    "steps_train = [entry[\"step\"] for entry in log_history if \"loss\" in entry]\n",
    "steps_eval = [entry[\"step\"] for entry in log_history if \"eval_loss\" in entry]\n",
    "\n",
    "plt.figure(figsize=(10, 6))\n",
    "plt.plot(steps_train, train_losses, label=\"Train Loss\")\n",
    "plt.plot(steps_eval, eval_losses, label=\"Validation Loss\")\n",
    "plt.xlabel(\"Step\")\n",
    "plt.ylabel(\"Loss\")\n",
    "plt.title(\"BART Training and Validation Loss\")\n",
    "plt.legend()\n",
    "plt.show()"
   ],
   "id": "c01bdb734769713f",
   "outputs": [
    {
     "data": {
      "text/plain": [
       "<Figure size 1000x600 with 1 Axes>"
      ],
      "image/png": "[encoded data removed]"
     },
     "metadata": {},
     "output_type": "display_data"
    }
   ],
   "execution_count": 6
  },
  {
   "metadata": {
    "ExecuteTime": {
     "end_time": "2025-03-15T19:59:21.795820Z",
     "start_time": "2025-03-15T19:59:21.791223Z"
    }
   },
   "cell_type": "code",
   "source": [
    "# generate title\n",
    "def generate_title(text):\n",
    "    inputs = tokenizer(\n",
    "        text,\n",
    "        max_length=256,\n",
    "        truncation=True,\n",
    "        return_tensors=\"pt\"\n",
    "    ).to(model.device)\n",
    "\n",
    "    outputs = model.generate(\n",
    "        inputs[\"input_ids\"],\n",
    "        attention_mask=inputs[\"attention_mask\"],\n",
    "        max_length=32,\n",
    "        num_beams=4,\n",
    "        early_stopping=True\n",
    "    )\n",
    "    return tokenizer.decode(outputs[0], skip_special_tokens=True)"
   ],
   "id": "f1c7e674a36ae7f2",
   "outputs": [],
   "execution_count": 7
  },
  {
   "metadata": {
    "ExecuteTime": {
     "end_time": "2025-03-15T20:01:39.834071Z",
     "start_time": "2025-03-15T20:01:39.212336Z"
    }
   },
   "cell_type": "code",
   "source": [
    "test_texts = [\n",
    "    \"tokyo ap a lunar orbiter that japan had planned to launch this year could face further delays, possibly until next year or later, because of a funding shortfall and problems developing the probe's informationgathering capabilities, japan's space agency said wednesday. the japan aerospace exploration agency, or jaxa, released a report to a governmentrun commission explaining expected delays to the launch of the 135 million lunara probe...\",\n",
    "    \"advanced micro devices inc.'s amd inc.'s 90nanometer notebook processors are on their way to customers, according to a research note published by goldman sachs co. thursday.advertisementintroducing ibm eserver p5 systems.powered by ibms most advanced 64bit microprocessor power5tm, p5 systems can run unix and linux simultaneously. learn more about eserver p5 systems.\"\n",
    "]\n",
    "\n",
    "for text in test_texts:\n",
    "    print(\"Input:\", text + \"...\")\n",
    "    print(\"Generated Title:\", generate_title(text))\n",
    "    print(\"---\")"
   ],
   "id": "4cd10d4aac27341a",
   "outputs": [
    {
     "name": "stdout",
     "output_type": "stream",
     "text": [
      "Input: tokyo ap a lunar orbiter that japan had planned to launch this year could face further delays, possibly until next year or later, because of a funding shortfall and problems developing the probe's informationgathering capabilities, japan's space agency said wednesday. the japan aerospace exploration agency, or jaxa, released a report to a governmentrun commission explaining expected delays to the launch of the 135 million lunara probe......\n",
      "Generated Title: Lunar Orbiter May Face Delays\n",
      "---\n",
      "Input: advanced micro devices inc.'s amd inc.'s 90nanometer notebook processors are on their way to customers, according to a research note published by goldman sachs co. thursday.advertisementintroducing ibm eserver p5 systems.powered by ibms most advanced 64bit microprocessor power5tm, p5 systems can run unix and linux simultaneously. learn more about eserver p5 systems....\n",
      "Generated Title: <keep_caps>amd</Keep_caps>: 90nanometer Notebook Processors on Way\n",
      "---\n"
     ]
    }
   ],
   "execution_count": 9
  },
  {
   "metadata": {},
   "cell_type": "code",
   "outputs": [],
   "execution_count": null,
   "source": "",
   "id": "e75268fd247bf0ec"
  }
 ],
 "metadata": {
  "kernelspec": {
   "display_name": "Python 3",
   "language": "python",
   "name": "python3"
  },
  "language_info": {
   "codemirror_mode": {
    "name": "ipython",
    "version": 2
   },
   "file_extension": ".py",
   "mimetype": "text/x-python",
   "name": "python",
   "nbconvert_exporter": "python",
   "pygments_lexer": "ipython2",
   "version": "2.7.6"
  }
 },
 "nbformat": 4,
 "nbformat_minor": 5
}
