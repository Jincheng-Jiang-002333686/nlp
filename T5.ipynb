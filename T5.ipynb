{
 "cells": [
  {
   "cell_type": "code",
   "id": "initial_id",
   "metadata": {
    "collapsed": true,
    "ExecuteTime": {
     "end_time": "2025-03-15T07:51:10.864693Z",
     "start_time": "2025-03-15T07:51:10.859904Z"
    }
   },
   "source": "# !pip install transformers datasets",
   "outputs": [],
   "execution_count": 1
  },
  {
   "metadata": {
    "ExecuteTime": {
     "end_time": "2025-03-15T07:51:18.368100Z",
     "start_time": "2025-03-15T07:51:10.878698Z"
    }
   },
   "cell_type": "code",
   "source": [
    "from transformers import T5Tokenizer, T5ForConditionalGeneration, Trainer, TrainingArguments\n",
    "from datasets import Dataset\n",
    "import pandas as pd\n",
    "import torch\n",
    "import matplotlib.pyplot as plt"
   ],
   "id": "72ae9777aa9575c0",
   "outputs": [],
   "execution_count": 2
  },
  {
   "metadata": {
    "ExecuteTime": {
     "end_time": "2025-03-15T07:51:18.702262Z",
     "start_time": "2025-03-15T07:51:18.448327Z"
    }
   },
   "cell_type": "code",
   "source": [
    "df = pd.read_parquet(\"processed_data.parquet\")\n",
    "\n",
    "def preprocess_function(examples):\n",
    "    # input structure: \"summarize: description\"\n",
    "    inputs = [\"summarize: \" + desc for desc in examples[\"norm_desc\"]]\n",
    "    targets = examples[\"norm_title\"]\n",
    "    return {\"input_text\": inputs, \"target_text\": targets}"
   ],
   "id": "716f1e800d7ba343",
   "outputs": [],
   "execution_count": 3
  },
  {
   "metadata": {
    "ExecuteTime": {
     "end_time": "2025-03-15T07:51:19.387048Z",
     "start_time": "2025-03-15T07:51:18.722805Z"
    }
   },
   "cell_type": "code",
   "source": [
    "# map the preprocess function to the dataset\n",
    "raw_dataset = Dataset.from_pandas(df[[\"norm_desc\", \"norm_title\"]])\n",
    "dataset = raw_dataset.map(preprocess_function, batched=True)\n",
    "# split the dataset into training and evaluation sets\n",
    "split_dataset = dataset.train_test_split(test_size=0.2, seed=42)\n",
    "train_dataset = split_dataset[\"train\"]\n",
    "eval_dataset = split_dataset[\"test\"]"
   ],
   "id": "37ee12671e58b0e2",
   "outputs": [
    {
     "data": {
      "text/plain": [
       "Map:   0%|          | 0/112390 [00:00<?, ? examples/s]"
      ],
      "application/vnd.jupyter.widget-view+json": {
       "version_major": 2,
       "version_minor": 0,
       "model_id": "597aa10f9b894a2393148144296a9cf6"
      }
     },
     "metadata": {},
     "output_type": "display_data"
    }
   ],
   "execution_count": 4
  },
  {
   "metadata": {
    "ExecuteTime": {
     "end_time": "2025-03-15T07:51:20.003414Z",
     "start_time": "2025-03-15T07:51:19.399058Z"
    }
   },
   "cell_type": "code",
   "source": [
    "# load the pre-trained T5 model and tokenizer\n",
    "model_name = \"t5-small\"  \n",
    "tokenizer = T5Tokenizer.from_pretrained(model_name)\n",
    "model = T5ForConditionalGeneration.from_pretrained(model_name)"
   ],
   "id": "19ee127e6e680ad1",
   "outputs": [
    {
     "name": "stderr",
     "output_type": "stream",
     "text": [
      "You are using the default legacy behaviour of the <class 'transformers.models.t5.tokenization_t5.T5Tokenizer'>. This is expected, and simply means that the `legacy` (previous) behavior will be used so nothing changes for you. If you want to use the new behaviour, set `legacy=False`. This should only be set if you understand what it means, and thoroughly read the reason why this was added as explained in https://github.com/huggingface/transformers/pull/24565\n"
     ]
    }
   ],
   "execution_count": 5
  },
  {
   "metadata": {
    "ExecuteTime": {
     "end_time": "2025-03-15T07:52:03.037196Z",
     "start_time": "2025-03-15T07:51:20.024394Z"
    }
   },
   "cell_type": "code",
   "source": [
    "def tokenize_function(examples):\n",
    "    model_inputs = tokenizer(\n",
    "        examples[\"input_text\"],\n",
    "        max_length=256,\n",
    "        truncation=True,\n",
    "        padding=\"max_length\"  \n",
    "    )\n",
    "    labels = tokenizer(\n",
    "        examples[\"target_text\"],\n",
    "        max_length=64,\n",
    "        truncation=True,\n",
    "        padding=\"max_length\"  \n",
    "    )\n",
    "    model_inputs[\"labels\"] = labels[\"input_ids\"]\n",
    "    return model_inputs\n",
    "\n",
    "train_dataset = train_dataset.map(tokenize_function, batched=True)\n",
    "eval_dataset = eval_dataset.map(tokenize_function, batched=True)"
   ],
   "id": "3c64dfb3ccf42a6e",
   "outputs": [
    {
     "data": {
      "text/plain": [
       "Map:   0%|          | 0/89912 [00:00<?, ? examples/s]"
      ],
      "application/vnd.jupyter.widget-view+json": {
       "version_major": 2,
       "version_minor": 0,
       "model_id": "c47f93be33964bf8a54dadac0ef621c8"
      }
     },
     "metadata": {},
     "output_type": "display_data"
    },
    {
     "data": {
      "text/plain": [
       "Map:   0%|          | 0/22478 [00:00<?, ? examples/s]"
      ],
      "application/vnd.jupyter.widget-view+json": {
       "version_major": 2,
       "version_minor": 0,
       "model_id": "246fe0feb8cb46ea8e361717d3e06da4"
      }
     },
     "metadata": {},
     "output_type": "display_data"
    }
   ],
   "execution_count": 6
  },
  {
   "metadata": {
    "ExecuteTime": {
     "end_time": "2025-03-15T09:27:14.638717Z",
     "start_time": "2025-03-15T07:52:03.052281Z"
    }
   },
   "cell_type": "code",
   "source": [
    "device = \"cuda\" if torch.cuda.is_available() else \"cpu\"\n",
    "# here we define the training arguments\n",
    "training_args = TrainingArguments(\n",
    "    output_dir=\"./t5-news-title-generation\",\n",
    "    num_train_epochs=20,\n",
    "    per_device_train_batch_size=128, \n",
    "    per_device_eval_batch_size=128,\n",
    "    eval_strategy=\"epoch\",\n",
    "    save_strategy=\"epoch\",\n",
    "    logging_dir=\"./logs\",\n",
    "    logging_steps=50,\n",
    "    learning_rate=5e-5,\n",
    "    fp16=True,  \n",
    ")\n",
    "\n",
    "# \n",
    "trainer = Trainer(\n",
    "    model=model,\n",
    "    args=training_args,\n",
    "    train_dataset=train_dataset,\n",
    "    eval_dataset=eval_dataset,\n",
    "    tokenizer=tokenizer,\n",
    ")\n",
    "\n",
    "# \n",
    "trainer.train()"
   ],
   "id": "5265ef05fe5ce74a",
   "outputs": [
    {
     "name": "stderr",
     "output_type": "stream",
     "text": [
      "C:\\Users\\jinch\\AppData\\Local\\Temp\\ipykernel_2720\\2877389509.py:17: FutureWarning: `tokenizer` is deprecated and will be removed in version 5.0.0 for `Trainer.__init__`. Use `processing_class` instead.\n",
      "  trainer = Trainer(\n",
      "Passing a tuple of `past_key_values` is deprecated and will be removed in Transformers v4.48.0. You should pass an instance of `EncoderDecoderCache` instead, e.g. `past_key_values=EncoderDecoderCache.from_legacy_cache(past_key_values)`.\n"
     ]
    },
    {
     "data": {
      "text/plain": [
       "<IPython.core.display.HTML object>"
      ],
      "text/html": [
       "\n",
       "    <div>\n",
       "      \n",
       "      <progress value='14060' max='14060' style='width:300px; height:20px; vertical-align: middle;'></progress>\n",
       "      [14060/14060 1:35:09, Epoch 20/20]\n",
       "    </div>\n",
       "    <table border=\"1\" class=\"dataframe\">\n",
       "  <thead>\n",
       " <tr style=\"text-align: left;\">\n",
       "      <th>Epoch</th>\n",
       "      <th>Training Loss</th>\n",
       "      <th>Validation Loss</th>\n",
       "    </tr>\n",
       "  </thead>\n",
       "  <tbody>\n",
       "    <tr>\n",
       "      <td>1</td>\n",
       "      <td>0.745300</td>\n",
       "      <td>0.665658</td>\n",
       "    </tr>\n",
       "    <tr>\n",
       "      <td>2</td>\n",
       "      <td>0.700700</td>\n",
       "      <td>0.630657</td>\n",
       "    </tr>\n",
       "    <tr>\n",
       "      <td>3</td>\n",
       "      <td>0.680100</td>\n",
       "      <td>0.609576</td>\n",
       "    </tr>\n",
       "    <tr>\n",
       "      <td>4</td>\n",
       "      <td>0.664900</td>\n",
       "      <td>0.595786</td>\n",
       "    </tr>\n",
       "    <tr>\n",
       "      <td>5</td>\n",
       "      <td>0.642000</td>\n",
       "      <td>0.586350</td>\n",
       "    </tr>\n",
       "    <tr>\n",
       "      <td>6</td>\n",
       "      <td>0.636000</td>\n",
       "      <td>0.578301</td>\n",
       "    </tr>\n",
       "    <tr>\n",
       "      <td>7</td>\n",
       "      <td>0.628400</td>\n",
       "      <td>0.572674</td>\n",
       "    </tr>\n",
       "    <tr>\n",
       "      <td>8</td>\n",
       "      <td>0.622900</td>\n",
       "      <td>0.567339</td>\n",
       "    </tr>\n",
       "    <tr>\n",
       "      <td>9</td>\n",
       "      <td>0.616200</td>\n",
       "      <td>0.563310</td>\n",
       "    </tr>\n",
       "    <tr>\n",
       "      <td>10</td>\n",
       "      <td>0.612200</td>\n",
       "      <td>0.559761</td>\n",
       "    </tr>\n",
       "    <tr>\n",
       "      <td>11</td>\n",
       "      <td>0.608500</td>\n",
       "      <td>0.556991</td>\n",
       "    </tr>\n",
       "    <tr>\n",
       "      <td>12</td>\n",
       "      <td>0.604900</td>\n",
       "      <td>0.554759</td>\n",
       "    </tr>\n",
       "    <tr>\n",
       "      <td>13</td>\n",
       "      <td>0.603200</td>\n",
       "      <td>0.552426</td>\n",
       "    </tr>\n",
       "    <tr>\n",
       "      <td>14</td>\n",
       "      <td>0.589900</td>\n",
       "      <td>0.550832</td>\n",
       "    </tr>\n",
       "    <tr>\n",
       "      <td>15</td>\n",
       "      <td>0.597300</td>\n",
       "      <td>0.549377</td>\n",
       "    </tr>\n",
       "    <tr>\n",
       "      <td>16</td>\n",
       "      <td>0.590500</td>\n",
       "      <td>0.548458</td>\n",
       "    </tr>\n",
       "    <tr>\n",
       "      <td>17</td>\n",
       "      <td>0.588700</td>\n",
       "      <td>0.547424</td>\n",
       "    </tr>\n",
       "    <tr>\n",
       "      <td>18</td>\n",
       "      <td>0.585700</td>\n",
       "      <td>0.546830</td>\n",
       "    </tr>\n",
       "    <tr>\n",
       "      <td>19</td>\n",
       "      <td>0.593300</td>\n",
       "      <td>0.546457</td>\n",
       "    </tr>\n",
       "    <tr>\n",
       "      <td>20</td>\n",
       "      <td>0.590300</td>\n",
       "      <td>0.546240</td>\n",
       "    </tr>\n",
       "  </tbody>\n",
       "</table><p>"
      ]
     },
     "metadata": {},
     "output_type": "display_data"
    },
    {
     "data": {
      "text/plain": [
       "TrainOutput(global_step=14060, training_loss=0.6498996892660475, metrics={'train_runtime': 5710.7631, 'train_samples_per_second': 314.886, 'train_steps_per_second': 2.462, 'total_flos': 1.2168852053950464e+17, 'train_loss': 0.6498996892660475, 'epoch': 20.0})"
      ]
     },
     "execution_count": 7,
     "metadata": {},
     "output_type": "execute_result"
    }
   ],
   "execution_count": 7
  },
  {
   "metadata": {
    "ExecuteTime": {
     "end_time": "2025-03-15T09:27:14.939954Z",
     "start_time": "2025-03-15T09:27:14.761217Z"
    }
   },
   "cell_type": "code",
   "source": [
    "# get the training log history\n",
    "log_history = trainer.state.log_history\n",
    "\n",
    "# extract the training and validation loss\n",
    "train_losses = [entry[\"loss\"] for entry in log_history if \"loss\" in entry]\n",
    "eval_losses = [entry[\"eval_loss\"] for entry in log_history if \"eval_loss\" in entry]\n",
    "\n",
    "steps_train = [entry[\"step\"] for entry in log_history if \"loss\" in entry]\n",
    "steps_eval = [entry[\"step\"] for entry in log_history if \"eval_loss\" in entry]\n",
    "\n",
    "plt.figure(figsize=(10, 6))\n",
    "plt.plot(steps_train, train_losses, label=\"Train Loss\")\n",
    "plt.plot(steps_eval, eval_losses, label=\"Validation Loss\")\n",
    "plt.xlabel(\"Step\")\n",
    "plt.ylabel(\"Loss\")\n",
    "plt.title(\"Training and Validation Loss\")\n",
    "plt.legend()\n",
    "plt.show()"
   ],
   "id": "b777f84688eff392",
   "outputs": [
    {
     "data": {
      "text/plain": [
       "<Figure size 1000x600 with 1 Axes>"
      ],
      "image/png": "[encoded data removed]"
     },
     "metadata": {},
     "output_type": "display_data"
    }
   ],
   "execution_count": 8
  },
  {
   "metadata": {
    "ExecuteTime": {
     "end_time": "2025-03-15T09:27:16.861056Z",
     "start_time": "2025-03-15T09:27:14.957030Z"
    }
   },
   "cell_type": "code",
   "source": [
    "# generate a title for a given text\n",
    "def generate_title(text):\n",
    "    input_text = \"summarize: \" + text\n",
    "    inputs = tokenizer.encode(input_text, return_tensors=\"pt\", max_length=256, truncation=True).to(device)\n",
    "    outputs = model.generate(inputs, max_length=64, num_beams=4)\n",
    "    return tokenizer.decode(outputs[0], skip_special_tokens=True)\n",
    "\n",
    "print(generate_title(\"tokyo ap a lunar orbiter that japan had planned to launch this year could face further delays, possibly until next year or later, because of a funding shortfall and problems developing the probe's informationgathering capabilities, japan's space agency said wednesday. the japan aerospace exploration agency, or jaxa, released a report to a governmentrun commission explaining expected delays to the launch of the 135 million lunara probe...\"))\n",
    "print(generate_title(\"advanced micro devices inc.'s amd inc.'s 90nanometer notebook processors are on their way to customers, according to a research note published by goldman sachs co. thursday.advertisementintroducing ibm eserver p5 systems.powered by ibms most advanced 64bit microprocessor power5tm, p5 systems can run unix and linux simultaneously. learn more about eserver p5 systems.\"))"
   ],
   "id": "29ae96c3c6c613f5",
   "outputs": [
    {
     "name": "stdout",
     "output_type": "stream",
     "text": [
      "keep_caps>jaxa/Keep_caps> Says keep_caps>mlb/Keep_caps> Lunar Orbiter Could Face Further Delays\n",
      "keep_caps>amd/Keep_caps>'s 90nanometer Notebook Processors on Way to Customers\n"
     ]
    }
   ],
   "execution_count": 9
  }
 ],
 "metadata": {
  "kernelspec": {
   "display_name": "Python 3",
   "language": "python",
   "name": "python3"
  },
  "language_info": {
   "codemirror_mode": {
    "name": "ipython",
    "version": 2
   },
   "file_extension": ".py",
   "mimetype": "text/x-python",
   "name": "python",
   "nbconvert_exporter": "python",
   "pygments_lexer": "ipython2",
   "version": "2.7.6"
  }
 },
 "nbformat": 4,
 "nbformat_minor": 5
}
